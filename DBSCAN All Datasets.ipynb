{
 "cells": [
  {
   "cell_type": "code",
   "execution_count": 1,
   "metadata": {
    "id": "m-Hgxlw9cjG7"
   },
   "outputs": [],
   "source": [
    "import numpy as np\n",
    "import pandas as pd\n",
    "from sklearn.cluster import DBSCAN\n",
    "from sklearn import metrics\n",
    "from sklearn.preprocessing import StandardScaler\n",
    "from sklearn.decomposition import PCA \n",
    "import numpy as np\n",
    "from sklearn.neighbors import NearestNeighbors\n",
    "from sklearn.cluster import DBSCAN\n",
    "from sklearn import preprocessing \n"
   ]
  },
  {
   "cell_type": "code",
   "execution_count": 2,
   "metadata": {
    "id": "t-fsthSBg1Sc"
   },
   "outputs": [],
   "source": [
    "def classification_accuracy(train_data, predicted_clusters, test_data):\n",
    "    actual_labels = test_data.value_counts().index.tolist()\n",
    "    train_data['predicted_clusters'] = predicted_clusters\n",
    "    cluster_labels = pd.value_counts(pd.Series(predicted_clusters))\n",
    "    cluster_labels = np.stack([cluster_labels.keys().values, cluster_labels.values]).T\n",
    "    cluster_labels = cluster_labels.tolist()\n",
    "    for i in range(len(cluster_labels)):\n",
    "        if i>=len(actual_labels):\n",
    "            break\n",
    "        cluster_labels[i].append(actual_labels[i])\n",
    "    cluster_labels.sort()\n",
    "    for i in cluster_labels:\n",
    "        if len(i)<3:\n",
    "            i.append(-1)\n",
    "    for i in cluster_labels:\n",
    "        if i[0]<0 :\n",
    "            i.pop(2)\n",
    "            i.append(-1)\n",
    "    for i in cluster_labels:\n",
    "        if len(i)<3:\n",
    "            i.append(-1)\n",
    "    train_data['predicted_labels'] = list(map(lambda x : cluster_labels[x+1][2], train_data['predicted_clusters']))\n",
    "    sum(train_data['predicted_labels']==test_data)\n",
    "    accuracy = sum(train_data['predicted_labels']==test_data)/len(train_data)\n",
    "    print(\"Classification accuracy: \", accuracy)\n"
   ]
  },
  {
   "cell_type": "markdown",
   "metadata": {
    "id": "c2uH63PIclRt"
   },
   "source": [
    "# Wine dataset"
   ]
  },
  {
   "cell_type": "code",
   "execution_count": 3,
   "metadata": {
    "colab": {
     "base_uri": "https://localhost:8080/",
     "height": 206
    },
    "id": "KDn5oEF4cjw0",
    "outputId": "11d2d792-36f7-4eb1-e5d5-aebf9477478a"
   },
   "outputs": [
    {
     "data": {
      "text/html": [
       "<div>\n",
       "<style scoped>\n",
       "    .dataframe tbody tr th:only-of-type {\n",
       "        vertical-align: middle;\n",
       "    }\n",
       "\n",
       "    .dataframe tbody tr th {\n",
       "        vertical-align: top;\n",
       "    }\n",
       "\n",
       "    .dataframe thead th {\n",
       "        text-align: right;\n",
       "    }\n",
       "</style>\n",
       "<table border=\"1\" class=\"dataframe\">\n",
       "  <thead>\n",
       "    <tr style=\"text-align: right;\">\n",
       "      <th></th>\n",
       "      <th>Wine</th>\n",
       "      <th>Alcohol</th>\n",
       "      <th>Malic.acid</th>\n",
       "      <th>Ash</th>\n",
       "      <th>Acl</th>\n",
       "      <th>Mg</th>\n",
       "      <th>Phenols</th>\n",
       "      <th>Flavanoids</th>\n",
       "      <th>Nonflavanoid.phenols</th>\n",
       "      <th>Proanth</th>\n",
       "      <th>Color.int</th>\n",
       "      <th>Hue</th>\n",
       "      <th>OD</th>\n",
       "      <th>Proline</th>\n",
       "    </tr>\n",
       "  </thead>\n",
       "  <tbody>\n",
       "    <tr>\n",
       "      <th>0</th>\n",
       "      <td>1</td>\n",
       "      <td>14.23</td>\n",
       "      <td>1.71</td>\n",
       "      <td>2.43</td>\n",
       "      <td>15.6</td>\n",
       "      <td>127</td>\n",
       "      <td>2.80</td>\n",
       "      <td>3.06</td>\n",
       "      <td>0.28</td>\n",
       "      <td>2.29</td>\n",
       "      <td>5.64</td>\n",
       "      <td>1.04</td>\n",
       "      <td>3.92</td>\n",
       "      <td>1065</td>\n",
       "    </tr>\n",
       "    <tr>\n",
       "      <th>1</th>\n",
       "      <td>1</td>\n",
       "      <td>13.20</td>\n",
       "      <td>1.78</td>\n",
       "      <td>2.14</td>\n",
       "      <td>11.2</td>\n",
       "      <td>100</td>\n",
       "      <td>2.65</td>\n",
       "      <td>2.76</td>\n",
       "      <td>0.26</td>\n",
       "      <td>1.28</td>\n",
       "      <td>4.38</td>\n",
       "      <td>1.05</td>\n",
       "      <td>3.40</td>\n",
       "      <td>1050</td>\n",
       "    </tr>\n",
       "    <tr>\n",
       "      <th>2</th>\n",
       "      <td>1</td>\n",
       "      <td>13.16</td>\n",
       "      <td>2.36</td>\n",
       "      <td>2.67</td>\n",
       "      <td>18.6</td>\n",
       "      <td>101</td>\n",
       "      <td>2.80</td>\n",
       "      <td>3.24</td>\n",
       "      <td>0.30</td>\n",
       "      <td>2.81</td>\n",
       "      <td>5.68</td>\n",
       "      <td>1.03</td>\n",
       "      <td>3.17</td>\n",
       "      <td>1185</td>\n",
       "    </tr>\n",
       "    <tr>\n",
       "      <th>3</th>\n",
       "      <td>1</td>\n",
       "      <td>14.37</td>\n",
       "      <td>1.95</td>\n",
       "      <td>2.50</td>\n",
       "      <td>16.8</td>\n",
       "      <td>113</td>\n",
       "      <td>3.85</td>\n",
       "      <td>3.49</td>\n",
       "      <td>0.24</td>\n",
       "      <td>2.18</td>\n",
       "      <td>7.80</td>\n",
       "      <td>0.86</td>\n",
       "      <td>3.45</td>\n",
       "      <td>1480</td>\n",
       "    </tr>\n",
       "    <tr>\n",
       "      <th>4</th>\n",
       "      <td>1</td>\n",
       "      <td>13.24</td>\n",
       "      <td>2.59</td>\n",
       "      <td>2.87</td>\n",
       "      <td>21.0</td>\n",
       "      <td>118</td>\n",
       "      <td>2.80</td>\n",
       "      <td>2.69</td>\n",
       "      <td>0.39</td>\n",
       "      <td>1.82</td>\n",
       "      <td>4.32</td>\n",
       "      <td>1.04</td>\n",
       "      <td>2.93</td>\n",
       "      <td>735</td>\n",
       "    </tr>\n",
       "  </tbody>\n",
       "</table>\n",
       "</div>"
      ],
      "text/plain": [
       "   Wine  Alcohol  Malic.acid   Ash   Acl   Mg  Phenols  Flavanoids  \\\n",
       "0     1    14.23        1.71  2.43  15.6  127     2.80        3.06   \n",
       "1     1    13.20        1.78  2.14  11.2  100     2.65        2.76   \n",
       "2     1    13.16        2.36  2.67  18.6  101     2.80        3.24   \n",
       "3     1    14.37        1.95  2.50  16.8  113     3.85        3.49   \n",
       "4     1    13.24        2.59  2.87  21.0  118     2.80        2.69   \n",
       "\n",
       "   Nonflavanoid.phenols  Proanth  Color.int   Hue    OD  Proline  \n",
       "0                  0.28     2.29       5.64  1.04  3.92     1065  \n",
       "1                  0.26     1.28       4.38  1.05  3.40     1050  \n",
       "2                  0.30     2.81       5.68  1.03  3.17     1185  \n",
       "3                  0.24     2.18       7.80  0.86  3.45     1480  \n",
       "4                  0.39     1.82       4.32  1.04  2.93      735  "
      ]
     },
     "execution_count": 3,
     "metadata": {},
     "output_type": "execute_result"
    }
   ],
   "source": [
    "# reading tsv files\n",
    "wine_data = pd.read_csv('wine.csv')\n",
    "wine_data.head()"
   ]
  },
  {
   "cell_type": "code",
   "execution_count": 4,
   "metadata": {
    "id": "R8nP0Q3Zcoe4"
   },
   "outputs": [],
   "source": [
    "wine_df = wine_data.iloc[:, 1:14]\n",
    "wine_label = wine_data.iloc[:,0]"
   ]
  },
  {
   "cell_type": "code",
   "execution_count": 5,
   "metadata": {
    "id": "DgR77-rIPi8o"
   },
   "outputs": [],
   "source": [
    "# Preprocessing for features \n",
    "scaled_features_df = StandardScaler().fit_transform(wine_df.values)"
   ]
  },
  {
   "cell_type": "code",
   "execution_count": 6,
   "metadata": {
    "id": "SmuUy6PXPsAt"
   },
   "outputs": [],
   "source": [
    "# PCA data \n",
    "pca = PCA(n_components=2)\n",
    "pca_data = pca.fit_transform(scaled_features_df)"
   ]
  },
  {
   "cell_type": "code",
   "execution_count": 7,
   "metadata": {
    "id": "aeL2MMsgdT9B"
   },
   "outputs": [],
   "source": [
    "# Processing of the labels\n",
    "M = wine_label.to_numpy()\n",
    "labels_true_wine = M"
   ]
  },
  {
   "cell_type": "markdown",
   "metadata": {
    "id": "b8TtwHESRBd1"
   },
   "source": [
    "Begin Clustering on Scaled DF (Without PCA)"
   ]
  },
  {
   "cell_type": "code",
   "execution_count": 8,
   "metadata": {
    "id": "1Rsy_pzJc4Ov"
   },
   "outputs": [],
   "source": [
    "# Plotting the K-NN distplot - This helps to identify elbow point for epsilon values\n",
    "\n",
    "# n_neighbors = 5 as kneighbors function returns distance of point to itself (i.e. first column will be zeros) \n",
    "nbrs = NearestNeighbors(n_neighbors=3).fit(scaled_features_df)\n",
    "# Find the k-neighbors of a point\n",
    "neigh_dist, neigh_ind = nbrs.kneighbors(scaled_features_df)\n",
    "# sort the neighbor distances (lengths to points) in ascending order\n",
    "# axis = 0 represents sort along first axis i.e. sort along row\n",
    "sort_neigh_dist = np.sort(neigh_dist, axis=0)"
   ]
  },
  {
   "cell_type": "code",
   "execution_count": 9,
   "metadata": {
    "colab": {
     "base_uri": "https://localhost:8080/",
     "height": 421
    },
    "id": "4jna0TVFdHDP",
    "outputId": "233ba8be-b0da-48b5-f707-6457d291335d"
   },
   "outputs": [
    {
     "name": "stdout",
     "output_type": "stream",
     "text": [
      "2.625995204233969\n"
     ]
    },
    {
     "data": {
      "image/png": "[encoded data removed]",
      "text/plain": [
       "<Figure size 432x432 with 1 Axes>"
      ]
     },
     "metadata": {
      "needs_background": "light"
     },
     "output_type": "display_data"
    }
   ],
   "source": [
    "import matplotlib.pyplot as plt\n",
    "from kneed import KneeLocator\n",
    "k_dist = sort_neigh_dist[:, 2]\n",
    "i = np.arange(len(k_dist))\n",
    "knee = KneeLocator(i, k_dist, S=1, curve='convex', direction='increasing', interp_method='polynomial')\n",
    "knee.plot_knee()\n",
    "plt.xlabel(\"Points\")\n",
    "plt.ylabel(\"Distance\")\n",
    "print(k_dist[knee.knee])"
   ]
  },
  {
   "cell_type": "code",
   "execution_count": 10,
   "metadata": {
    "colab": {
     "base_uri": "https://localhost:8080/",
     "height": 279
    },
    "id": "tLL0_xyzzpyg",
    "outputId": "daed9f0c-eaeb-47cc-ed07-2275c213535e"
   },
   "outputs": [
    {
     "data": {
      "image/png": "[encoded data removed]",
      "text/plain": [
       "<Figure size 432x288 with 1 Axes>"
      ]
     },
     "metadata": {
      "needs_background": "light"
     },
     "output_type": "display_data"
    }
   ],
   "source": [
    "plt.plot(k_dist)\n",
    "plt.axhline(y=2.625, linewidth=1, linestyle='dashed', color='k')\n",
    "plt.ylabel(\"k-NN distance\")\n",
    "plt.xlabel(\"Sorted observations (4th NN)\")\n",
    "plt.show()"
   ]
  },
  {
   "cell_type": "code",
   "execution_count": 11,
   "metadata": {
    "colab": {
     "base_uri": "https://localhost:8080/"
    },
    "id": "cnLmZ2YFdIGv",
    "outputId": "ef990092-b0db-403f-a8b4-35133c4db12f"
   },
   "outputs": [
    {
     "name": "stdout",
     "output_type": "stream",
     "text": [
      "[ 0  0  0  0  0  0  0  0  0  0  0  0  0  0  0  0  0  0  0  0  0  0  0  0\n",
      "  0  0  0  0  0  0  0  0  0  0  0  0  0  0  0  0  0  0  0  0  0  0  0  0\n",
      "  0  0  0  0  0  0  0  0  0  0  0 -1  0  0  0  0  0  0  0  0  0 -1  0 -1\n",
      "  0 -1  0  0  0  0 -1 -1  0  0  0  0  0  0  0  0  0  0  0  0  0  0  0 -1\n",
      " -1  0  0 -1  0  0  0  0  0  0  0  0  0  0 -1  0 -1  0  0 -1  0  0  0  0\n",
      "  0 -1 -1 -1 -1  0  0 -1  0  0  0  0  0  0  0  0  0  0  0  0  0  0  0  0\n",
      "  0  0  0  0  0  0  0  0  0  0  0  0  0  0 -1 -1  0  0  0  0  0  0  0  0\n",
      "  0  0  0  0  0  0  0  0  0  0]\n",
      "Estimated number of clusters: 1\n",
      "Estimated number of noise points: 19\n",
      "Homogeneity: 0.068\n",
      "Completeness: 0.216\n",
      "V-measure: 0.103\n",
      "Adjusted Rand Index: 0.002\n",
      "Adjusted Mutual Information: 0.096\n",
      "Silhouette Score: 0.164\n",
      "Davies Bouldin score is: 3.774\n",
      "Calinski Harabasz score is:  5.429\n",
      "Classification accuracy:  0.30337078651685395\n"
     ]
    }
   ],
   "source": [
    "clusters = DBSCAN(eps=2.625, min_samples=3).fit(scaled_features_df)\n",
    "train_data = pd.DataFrame(scaled_features_df)\n",
    "# get cluster labels\n",
    "clusters.labels_\n",
    "\n",
    "core_samples_mask = np.zeros_like(clusters.labels_, dtype=bool)\n",
    "core_samples_mask[clusters.core_sample_indices_] = True\n",
    "labels = clusters.labels_\n",
    "\n",
    "# Number of clusters in labels, ignoring noise if present.\n",
    "n_clusters_ = len(set(labels)) - (1 if -1 in labels else 0)\n",
    "n_noise_ = list(labels).count(-1)\n",
    "print(labels)\n",
    "print(\"Estimated number of clusters: %d\" % n_clusters_)\n",
    "print(\"Estimated number of noise points: %d\" % n_noise_)\n",
    "print(\"Homogeneity: %0.3f\" % metrics.homogeneity_score(labels_true_wine, labels))\n",
    "print(\"Completeness: %0.3f\" % metrics.completeness_score(labels_true_wine, labels))\n",
    "print(\"V-measure: %0.3f\" % metrics.v_measure_score(labels_true_wine, labels))\n",
    "print(\"Adjusted Rand Index: %0.3f\" % metrics.adjusted_rand_score(labels_true_wine, labels))\n",
    "print(\n",
    "    \"Adjusted Mutual Information: %0.3f\"\n",
    "    % metrics.adjusted_mutual_info_score(labels_true_wine, labels)\n",
    ")\n",
    "print(\"Silhouette Score: %0.3f\" % metrics.silhouette_score(scaled_features_df, labels))\n",
    "\n",
    "#silhouette (cohesion compared to separation, high value indicates well matched to its own cluster and poorly to \n",
    "#neighboring clusters)\n",
    "\n",
    "#Davies-Bouldin Index (cluster overlap by measuring the ratio of the sum of within-cluster scatters to between-cluster \n",
    "#separations, low value indicates indicates that the clusters are compact and far)\n",
    "print('Davies Bouldin score is: %0.3f' % metrics.davies_bouldin_score(scaled_features_df, labels))\n",
    "\n",
    "#calinski harabasz score (Well-defined clusters have a large between-cluster variance and a small within-cluster variance,\n",
    "#larger index value indicates optimal number of clusters)\n",
    "print('Calinski Harabasz score is:  %0.3f' % metrics.calinski_harabasz_score(scaled_features_df, labels))\n",
    "\n",
    "\n",
    "# Classification accuracy as well\n",
    "test_data = pd.Series(labels_true_wine)\n",
    "classification_accuracy(train_data, labels, test_data)"
   ]
  },
  {
   "cell_type": "markdown",
   "metadata": {
    "id": "jNwps3onfDgd"
   },
   "source": [
    "Clustering on Scaled DFA with PCA "
   ]
  },
  {
   "cell_type": "code",
   "execution_count": 12,
   "metadata": {
    "id": "Kpq7I3Pld5Ir"
   },
   "outputs": [],
   "source": [
    "# n_neighbors = 5 as kneighbors function returns distance of point to itself (i.e. first column will be zeros) \n",
    "nbrs = NearestNeighbors(n_neighbors=3).fit(pca_data)\n",
    "# Find the k-neighbors of a point\n",
    "neigh_dist, neigh_ind = nbrs.kneighbors(pca_data)\n",
    "# sort the neighbor distances (lengths to points) in ascending order\n",
    "# axis = 0 represents sort along first axis i.e. sort along row\n",
    "sort_neigh_dist = np.sort(neigh_dist, axis=0)"
   ]
  },
  {
   "cell_type": "code",
   "execution_count": 13,
   "metadata": {
    "id": "X-0LlyzrddCx"
   },
   "outputs": [],
   "source": [
    "k_dist = sort_neigh_dist[:, 2]\n"
   ]
  },
  {
   "cell_type": "code",
   "execution_count": 14,
   "metadata": {
    "colab": {
     "base_uri": "https://localhost:8080/",
     "height": 279
    },
    "id": "wB090jOR-6r6",
    "outputId": "293d9856-a264-4a47-d226-96a44a98628b"
   },
   "outputs": [
    {
     "data": {
      "image/png": "[encoded data removed]",
      "text/plain": [
       "<Figure size 432x288 with 1 Axes>"
      ]
     },
     "metadata": {
      "needs_background": "light"
     },
     "output_type": "display_data"
    }
   ],
   "source": [
    "plt.plot(k_dist)\n",
    "plt.axhline(y=0.617, linewidth=1, linestyle='dashed', color='k')\n",
    "plt.ylabel(\"k-NN distance\")\n",
    "plt.xlabel(\"Sorted observations (4th NN)\")\n",
    "plt.show()"
   ]
  },
  {
   "cell_type": "code",
   "execution_count": 15,
   "metadata": {
    "colab": {
     "base_uri": "https://localhost:8080/",
     "height": 421
    },
    "id": "fcZOb0jY0oji",
    "outputId": "b50a7780-2315-49ab-a84e-2b65e3783793"
   },
   "outputs": [
    {
     "name": "stdout",
     "output_type": "stream",
     "text": [
      "0.5539732187671017\n"
     ]
    },
    {
     "data": {
      "image/png": "[encoded data removed]",
      "text/plain": [
       "<Figure size 432x432 with 1 Axes>"
      ]
     },
     "metadata": {
      "needs_background": "light"
     },
     "output_type": "display_data"
    }
   ],
   "source": [
    "from kneed import KneeLocator\n",
    "i = np.arange(len(k_dist))\n",
    "knee = KneeLocator(i, k_dist, S=1, curve='convex', direction='increasing', interp_method='polynomial')\n",
    "knee.plot_knee()\n",
    "plt.xlabel(\"Points\")\n",
    "plt.ylabel(\"Distance\")\n",
    "print(k_dist[knee.knee])"
   ]
  },
  {
   "cell_type": "code",
   "execution_count": 16,
   "metadata": {
    "colab": {
     "base_uri": "https://localhost:8080/"
    },
    "id": "YDGMMnnrddJ2",
    "outputId": "b15242df-51b0-450e-8555-8611204fda7a"
   },
   "outputs": [
    {
     "name": "stdout",
     "output_type": "stream",
     "text": [
      "[ 0  0  0 -1  0  0  0  0  0  0  0  0  0  0 -1  0  0  0 -1  0  0  0  0  0\n",
      "  0  0  0  0  0  0  0  0  0  0  0  0  0  0  0  0  0  0  0  0  0 -1  0  0\n",
      "  0  0 -1  0  0  0  0  0  0  0  0  1  1  1  0  0  1  0  0  1  2  0  1  0\n",
      "  2  0  0  1  1  1  0  0 -1  0  1  3  0  1  1  1  1  1  1  1  1  1  1  0\n",
      "  2  1  0  1  1  1  0  1  1  1  1  1  1  0  0  1  1  1  1 -1  1  1 -1  1\n",
      "  0  0  1  2  0  1  0  1  1  1 -1  3  3  3  3  3  3  3  3  3  3  3  3  3\n",
      "  4  3  3  3  3  3  3  3  4  3  3  3  3  3 -1 -1  3  4  3  3  3  3  3  3\n",
      "  3  3 -1  3  3  3  3  3  3  3]\n",
      "Estimated number of clusters: 5\n",
      "Estimated number of noise points: 12\n",
      "Homogeneity: 0.679\n",
      "Completeness: 0.533\n",
      "V-measure: 0.597\n",
      "Adjusted Rand Index: 0.530\n",
      "Adjusted Mutual Information: 0.587\n",
      "Silhouette Score: 0.167\n",
      "Davies Bouldin score is: 2.241\n",
      "Calinski Harabasz score is:  83.089\n",
      "Classification accuracy:  0.34831460674157305\n"
     ]
    }
   ],
   "source": [
    "#clusters = DBSCAN(eps=0.617, min_samples=4).fit(pca_data)\n",
    "clusters = DBSCAN(eps=0.554, min_samples=3).fit(pca_data)\n",
    "train_data = pd.DataFrame(pca_data)\n",
    "\n",
    "# get cluster labels\n",
    "clusters.labels_\n",
    "\n",
    "core_samples_mask = np.zeros_like(clusters.labels_, dtype=bool)\n",
    "core_samples_mask[clusters.core_sample_indices_] = True\n",
    "labels = clusters.labels_\n",
    "\n",
    "# Number of clusters in labels, ignoring noise if present.\n",
    "n_clusters_ = len(set(labels)) - (1 if -1 in labels else 0)\n",
    "n_noise_ = list(labels).count(-1)\n",
    "print(labels)\n",
    "print(\"Estimated number of clusters: %d\" % n_clusters_)\n",
    "print(\"Estimated number of noise points: %d\" % n_noise_)\n",
    "print(\"Homogeneity: %0.3f\" % metrics.homogeneity_score(labels_true_wine, labels))\n",
    "print(\"Completeness: %0.3f\" % metrics.completeness_score(labels_true_wine, labels))\n",
    "print(\"V-measure: %0.3f\" % metrics.v_measure_score(labels_true_wine, labels))\n",
    "print(\"Adjusted Rand Index: %0.3f\" % metrics.adjusted_rand_score(labels_true_wine, labels))\n",
    "print(\n",
    "    \"Adjusted Mutual Information: %0.3f\"\n",
    "    % metrics.adjusted_mutual_info_score(labels_true_wine, labels)\n",
    ")\n",
    "\n",
    "print(\"Silhouette Score: %0.3f\" % metrics.silhouette_score(pca_data, labels))\n",
    "\n",
    "#silhouette (cohesion compared to separation, high value indicates well matched to its own cluster and poorly to \n",
    "#neighboring clusters)\n",
    "\n",
    "#Davies-Bouldin Index (cluster overlap by measuring the ratio of the sum of within-cluster scatters to between-cluster \n",
    "#separations, low value indicates indicates that the clusters are compact and far)\n",
    "print('Davies Bouldin score is: %0.3f' % metrics.davies_bouldin_score(pca_data, labels))\n",
    "\n",
    "#calinski harabasz score (Well-defined clusters have a large between-cluster variance and a small within-cluster variance,\n",
    "#larger index value indicates optimal number of clusters)\n",
    "print('Calinski Harabasz score is:  %0.3f' % metrics.calinski_harabasz_score(pca_data, labels))\n",
    "\n",
    "\n",
    "test_data = pd.Series(labels_true_wine)\n",
    "classification_accuracy(train_data, labels, test_data)"
   ]
  },
  {
   "cell_type": "code",
   "execution_count": 17,
   "metadata": {
    "colab": {
     "base_uri": "https://localhost:8080/",
     "height": 265
    },
    "id": "HdvZB_VnfH9N",
    "outputId": "7e659aac-38cc-44bf-a712-1c9e2a30fb80"
   },
   "outputs": [
    {
     "data": {
      "image/png": "[encoded data removed]",
      "text/plain": [
       "<Figure size 432x288 with 1 Axes>"
      ]
     },
     "metadata": {
      "needs_background": "light"
     },
     "output_type": "display_data"
    }
   ],
   "source": [
    "pca_data_df = pd.DataFrame(pca_data)\n",
    "pca_data_df.columns = ['P1', 'P2']\n",
    "plt.figure()\n",
    "plt.scatter(pca_data_df['P1'], pca_data_df['P2'],\n",
    "            c = labels, cmap ='rainbow')\n",
    "plt.show()"
   ]
  },
  {
   "cell_type": "markdown",
   "metadata": {
    "id": "zefY2OIhfzCH"
   },
   "source": [
    "# Start Yeast Dataset"
   ]
  },
  {
   "cell_type": "code",
   "execution_count": 74,
   "metadata": {
    "colab": {
     "base_uri": "https://localhost:8080/",
     "height": 424
    },
    "id": "TvuNzDYDddP7",
    "outputId": "f04ce69a-4241-4155-fb7f-74fc8e940e33"
   },
   "outputs": [
    {
     "data": {
      "text/html": [
       "<div>\n",
       "<style scoped>\n",
       "    .dataframe tbody tr th:only-of-type {\n",
       "        vertical-align: middle;\n",
       "    }\n",
       "\n",
       "    .dataframe tbody tr th {\n",
       "        vertical-align: top;\n",
       "    }\n",
       "\n",
       "    .dataframe thead th {\n",
       "        text-align: right;\n",
       "    }\n",
       "</style>\n",
       "<table border=\"1\" class=\"dataframe\">\n",
       "  <thead>\n",
       "    <tr style=\"text-align: right;\">\n",
       "      <th></th>\n",
       "      <th>Sequence Name</th>\n",
       "      <th>mcg</th>\n",
       "      <th>gvh</th>\n",
       "      <th>alm</th>\n",
       "      <th>mit</th>\n",
       "      <th>erl</th>\n",
       "      <th>pox</th>\n",
       "      <th>vac</th>\n",
       "      <th>nuc</th>\n",
       "      <th>Correct classification</th>\n",
       "    </tr>\n",
       "  </thead>\n",
       "  <tbody>\n",
       "    <tr>\n",
       "      <th>0</th>\n",
       "      <td>ADT1_YEAST</td>\n",
       "      <td>0.58</td>\n",
       "      <td>0.61</td>\n",
       "      <td>0.47</td>\n",
       "      <td>0.13</td>\n",
       "      <td>0.50</td>\n",
       "      <td>0.00</td>\n",
       "      <td>0.48</td>\n",
       "      <td>0.22</td>\n",
       "      <td>MIT</td>\n",
       "    </tr>\n",
       "    <tr>\n",
       "      <th>1</th>\n",
       "      <td>ADT2_YEAST</td>\n",
       "      <td>0.43</td>\n",
       "      <td>0.67</td>\n",
       "      <td>0.48</td>\n",
       "      <td>0.27</td>\n",
       "      <td>0.50</td>\n",
       "      <td>0.00</td>\n",
       "      <td>0.53</td>\n",
       "      <td>0.22</td>\n",
       "      <td>MIT</td>\n",
       "    </tr>\n",
       "    <tr>\n",
       "      <th>2</th>\n",
       "      <td>ADT3_YEAST</td>\n",
       "      <td>0.64</td>\n",
       "      <td>0.62</td>\n",
       "      <td>0.49</td>\n",
       "      <td>0.15</td>\n",
       "      <td>0.50</td>\n",
       "      <td>0.00</td>\n",
       "      <td>0.53</td>\n",
       "      <td>0.22</td>\n",
       "      <td>MIT</td>\n",
       "    </tr>\n",
       "    <tr>\n",
       "      <th>3</th>\n",
       "      <td>AAR2_YEAST</td>\n",
       "      <td>0.58</td>\n",
       "      <td>0.44</td>\n",
       "      <td>0.57</td>\n",
       "      <td>0.13</td>\n",
       "      <td>0.50</td>\n",
       "      <td>0.00</td>\n",
       "      <td>0.54</td>\n",
       "      <td>0.22</td>\n",
       "      <td>NUC</td>\n",
       "    </tr>\n",
       "    <tr>\n",
       "      <th>4</th>\n",
       "      <td>AATM_YEAST</td>\n",
       "      <td>0.42</td>\n",
       "      <td>0.44</td>\n",
       "      <td>0.48</td>\n",
       "      <td>0.54</td>\n",
       "      <td>0.50</td>\n",
       "      <td>0.00</td>\n",
       "      <td>0.48</td>\n",
       "      <td>0.22</td>\n",
       "      <td>MIT</td>\n",
       "    </tr>\n",
       "    <tr>\n",
       "      <th>...</th>\n",
       "      <td>...</td>\n",
       "      <td>...</td>\n",
       "      <td>...</td>\n",
       "      <td>...</td>\n",
       "      <td>...</td>\n",
       "      <td>...</td>\n",
       "      <td>...</td>\n",
       "      <td>...</td>\n",
       "      <td>...</td>\n",
       "      <td>...</td>\n",
       "    </tr>\n",
       "    <tr>\n",
       "      <th>1479</th>\n",
       "      <td>YUR1_YEAST</td>\n",
       "      <td>0.81</td>\n",
       "      <td>0.62</td>\n",
       "      <td>0.43</td>\n",
       "      <td>0.17</td>\n",
       "      <td>0.50</td>\n",
       "      <td>0.00</td>\n",
       "      <td>0.53</td>\n",
       "      <td>0.22</td>\n",
       "      <td>ME2</td>\n",
       "    </tr>\n",
       "    <tr>\n",
       "      <th>1480</th>\n",
       "      <td>ZIP1_YEAST</td>\n",
       "      <td>0.47</td>\n",
       "      <td>0.43</td>\n",
       "      <td>0.61</td>\n",
       "      <td>0.40</td>\n",
       "      <td>0.50</td>\n",
       "      <td>0.00</td>\n",
       "      <td>0.48</td>\n",
       "      <td>0.47</td>\n",
       "      <td>NUC</td>\n",
       "    </tr>\n",
       "    <tr>\n",
       "      <th>1481</th>\n",
       "      <td>ZNRP_YEAST</td>\n",
       "      <td>0.67</td>\n",
       "      <td>0.57</td>\n",
       "      <td>0.36</td>\n",
       "      <td>0.19</td>\n",
       "      <td>0.50</td>\n",
       "      <td>0.00</td>\n",
       "      <td>0.56</td>\n",
       "      <td>0.22</td>\n",
       "      <td>ME2</td>\n",
       "    </tr>\n",
       "    <tr>\n",
       "      <th>1482</th>\n",
       "      <td>ZUO1_YEAST</td>\n",
       "      <td>0.43</td>\n",
       "      <td>0.40</td>\n",
       "      <td>0.60</td>\n",
       "      <td>0.16</td>\n",
       "      <td>0.50</td>\n",
       "      <td>0.00</td>\n",
       "      <td>0.53</td>\n",
       "      <td>0.39</td>\n",
       "      <td>NUC</td>\n",
       "    </tr>\n",
       "    <tr>\n",
       "      <th>1483</th>\n",
       "      <td>G6PD_YEAST</td>\n",
       "      <td>0.65</td>\n",
       "      <td>0.54</td>\n",
       "      <td>0.54</td>\n",
       "      <td>0.13</td>\n",
       "      <td>0.50</td>\n",
       "      <td>0.00</td>\n",
       "      <td>0.53</td>\n",
       "      <td>0.22</td>\n",
       "      <td>CYT</td>\n",
       "    </tr>\n",
       "  </tbody>\n",
       "</table>\n",
       "<p>1484 rows × 10 columns</p>\n",
       "</div>"
      ],
      "text/plain": [
       "     Sequence Name  mcg  gvh  alm  mit  erl  pox  vac  nuc  \\\n",
       "0       ADT1_YEAST 0.58 0.61 0.47 0.13 0.50 0.00 0.48 0.22   \n",
       "1       ADT2_YEAST 0.43 0.67 0.48 0.27 0.50 0.00 0.53 0.22   \n",
       "2       ADT3_YEAST 0.64 0.62 0.49 0.15 0.50 0.00 0.53 0.22   \n",
       "3       AAR2_YEAST 0.58 0.44 0.57 0.13 0.50 0.00 0.54 0.22   \n",
       "4       AATM_YEAST 0.42 0.44 0.48 0.54 0.50 0.00 0.48 0.22   \n",
       "...            ...  ...  ...  ...  ...  ...  ...  ...  ...   \n",
       "1479    YUR1_YEAST 0.81 0.62 0.43 0.17 0.50 0.00 0.53 0.22   \n",
       "1480    ZIP1_YEAST 0.47 0.43 0.61 0.40 0.50 0.00 0.48 0.47   \n",
       "1481    ZNRP_YEAST 0.67 0.57 0.36 0.19 0.50 0.00 0.56 0.22   \n",
       "1482    ZUO1_YEAST 0.43 0.40 0.60 0.16 0.50 0.00 0.53 0.39   \n",
       "1483    G6PD_YEAST 0.65 0.54 0.54 0.13 0.50 0.00 0.53 0.22   \n",
       "\n",
       "     Correct classification  \n",
       "0                       MIT  \n",
       "1                       MIT  \n",
       "2                       MIT  \n",
       "3                       NUC  \n",
       "4                       MIT  \n",
       "...                     ...  \n",
       "1479                    ME2  \n",
       "1480                    NUC  \n",
       "1481                    ME2  \n",
       "1482                    NUC  \n",
       "1483                    CYT  \n",
       "\n",
       "[1484 rows x 10 columns]"
      ]
     },
     "execution_count": 74,
     "metadata": {},
     "output_type": "execute_result"
    }
   ],
   "source": [
    "#reading tsv files\n",
    "column_names = [\"Sequence Name\", \"mcg\", \"gvh\", \"alm\", \"mit\", \"erl\", \"pox\", \"vac\", \"nuc\", \"Correct classification\"]\n",
    "pd.options.display.float_format = '{:,.2f}'.format\n",
    "\n",
    "yeast_df = pd.read_csv(\"yeast.data\",  sep=r\"\\s{2,}\", engine=\"python\", names = column_names, on_bad_lines='skip')\n",
    "yeast_df"
   ]
  },
  {
   "cell_type": "code",
   "execution_count": 75,
   "metadata": {
    "id": "Ve1kSW9oaFi0"
   },
   "outputs": [],
   "source": [
    "yeast_label = yeast_df.iloc[:,9]"
   ]
  },
  {
   "cell_type": "code",
   "execution_count": 76,
   "metadata": {
    "colab": {
     "base_uri": "https://localhost:8080/",
     "height": 206
    },
    "id": "vzBFkX1DXTbs",
    "outputId": "e3e009ae-2994-4ecd-9033-c9a48df461ac"
   },
   "outputs": [
    {
     "data": {
      "text/html": [
       "<div>\n",
       "<style scoped>\n",
       "    .dataframe tbody tr th:only-of-type {\n",
       "        vertical-align: middle;\n",
       "    }\n",
       "\n",
       "    .dataframe tbody tr th {\n",
       "        vertical-align: top;\n",
       "    }\n",
       "\n",
       "    .dataframe thead th {\n",
       "        text-align: right;\n",
       "    }\n",
       "</style>\n",
       "<table border=\"1\" class=\"dataframe\">\n",
       "  <thead>\n",
       "    <tr style=\"text-align: right;\">\n",
       "      <th></th>\n",
       "      <th>Sequence Name</th>\n",
       "      <th>Correct classification</th>\n",
       "    </tr>\n",
       "  </thead>\n",
       "  <tbody>\n",
       "    <tr>\n",
       "      <th>0</th>\n",
       "      <td>ADT1_YEAST</td>\n",
       "      <td>MIT</td>\n",
       "    </tr>\n",
       "    <tr>\n",
       "      <th>1</th>\n",
       "      <td>ADT2_YEAST</td>\n",
       "      <td>MIT</td>\n",
       "    </tr>\n",
       "    <tr>\n",
       "      <th>2</th>\n",
       "      <td>ADT3_YEAST</td>\n",
       "      <td>MIT</td>\n",
       "    </tr>\n",
       "    <tr>\n",
       "      <th>3</th>\n",
       "      <td>AAR2_YEAST</td>\n",
       "      <td>NUC</td>\n",
       "    </tr>\n",
       "    <tr>\n",
       "      <th>4</th>\n",
       "      <td>AATM_YEAST</td>\n",
       "      <td>MIT</td>\n",
       "    </tr>\n",
       "  </tbody>\n",
       "</table>\n",
       "</div>"
      ],
      "text/plain": [
       "  Sequence Name Correct classification\n",
       "0    ADT1_YEAST                    MIT\n",
       "1    ADT2_YEAST                    MIT\n",
       "2    ADT3_YEAST                    MIT\n",
       "3    AAR2_YEAST                    NUC\n",
       "4    AATM_YEAST                    MIT"
      ]
     },
     "execution_count": 76,
     "metadata": {},
     "output_type": "execute_result"
    }
   ],
   "source": [
    "yeast_df3 = yeast_df.iloc[:, [0,9]]\n",
    "yeast_df3.head()"
   ]
  },
  {
   "cell_type": "code",
   "execution_count": 77,
   "metadata": {
    "colab": {
     "base_uri": "https://localhost:8080/",
     "height": 206
    },
    "id": "w1CPpiu3YXHK",
    "outputId": "88f14857-788b-430c-c617-2cbb554feb3b"
   },
   "outputs": [
    {
     "data": {
      "text/html": [
       "<div>\n",
       "<style scoped>\n",
       "    .dataframe tbody tr th:only-of-type {\n",
       "        vertical-align: middle;\n",
       "    }\n",
       "\n",
       "    .dataframe tbody tr th {\n",
       "        vertical-align: top;\n",
       "    }\n",
       "\n",
       "    .dataframe thead th {\n",
       "        text-align: right;\n",
       "    }\n",
       "</style>\n",
       "<table border=\"1\" class=\"dataframe\">\n",
       "  <thead>\n",
       "    <tr style=\"text-align: right;\">\n",
       "      <th></th>\n",
       "      <th>mcg</th>\n",
       "      <th>gvh</th>\n",
       "      <th>alm</th>\n",
       "      <th>mit</th>\n",
       "      <th>erl</th>\n",
       "      <th>pox</th>\n",
       "      <th>vac</th>\n",
       "      <th>nuc</th>\n",
       "    </tr>\n",
       "  </thead>\n",
       "  <tbody>\n",
       "    <tr>\n",
       "      <th>0</th>\n",
       "      <td>0.58</td>\n",
       "      <td>0.61</td>\n",
       "      <td>0.47</td>\n",
       "      <td>0.13</td>\n",
       "      <td>0.50</td>\n",
       "      <td>0.00</td>\n",
       "      <td>0.48</td>\n",
       "      <td>0.22</td>\n",
       "    </tr>\n",
       "    <tr>\n",
       "      <th>1</th>\n",
       "      <td>0.43</td>\n",
       "      <td>0.67</td>\n",
       "      <td>0.48</td>\n",
       "      <td>0.27</td>\n",
       "      <td>0.50</td>\n",
       "      <td>0.00</td>\n",
       "      <td>0.53</td>\n",
       "      <td>0.22</td>\n",
       "    </tr>\n",
       "    <tr>\n",
       "      <th>2</th>\n",
       "      <td>0.64</td>\n",
       "      <td>0.62</td>\n",
       "      <td>0.49</td>\n",
       "      <td>0.15</td>\n",
       "      <td>0.50</td>\n",
       "      <td>0.00</td>\n",
       "      <td>0.53</td>\n",
       "      <td>0.22</td>\n",
       "    </tr>\n",
       "    <tr>\n",
       "      <th>3</th>\n",
       "      <td>0.58</td>\n",
       "      <td>0.44</td>\n",
       "      <td>0.57</td>\n",
       "      <td>0.13</td>\n",
       "      <td>0.50</td>\n",
       "      <td>0.00</td>\n",
       "      <td>0.54</td>\n",
       "      <td>0.22</td>\n",
       "    </tr>\n",
       "    <tr>\n",
       "      <th>4</th>\n",
       "      <td>0.42</td>\n",
       "      <td>0.44</td>\n",
       "      <td>0.48</td>\n",
       "      <td>0.54</td>\n",
       "      <td>0.50</td>\n",
       "      <td>0.00</td>\n",
       "      <td>0.48</td>\n",
       "      <td>0.22</td>\n",
       "    </tr>\n",
       "  </tbody>\n",
       "</table>\n",
       "</div>"
      ],
      "text/plain": [
       "   mcg  gvh  alm  mit  erl  pox  vac  nuc\n",
       "0 0.58 0.61 0.47 0.13 0.50 0.00 0.48 0.22\n",
       "1 0.43 0.67 0.48 0.27 0.50 0.00 0.53 0.22\n",
       "2 0.64 0.62 0.49 0.15 0.50 0.00 0.53 0.22\n",
       "3 0.58 0.44 0.57 0.13 0.50 0.00 0.54 0.22\n",
       "4 0.42 0.44 0.48 0.54 0.50 0.00 0.48 0.22"
      ]
     },
     "execution_count": 77,
     "metadata": {},
     "output_type": "execute_result"
    }
   ],
   "source": [
    "yeast_df = yeast_df.drop(yeast_df.columns[[0,9]],axis = 1)\n",
    "yeast_df.head()"
   ]
  },
  {
   "cell_type": "code",
   "execution_count": 78,
   "metadata": {
    "id": "0O1YhMmgYndF"
   },
   "outputs": [],
   "source": [
    "df_yeast = yeast_df\n",
    "# df_yeast = yeast_df.iloc[:, 1:9]\n"
   ]
  },
  {
   "cell_type": "code",
   "execution_count": 79,
   "metadata": {
    "colab": {
     "base_uri": "https://localhost:8080/",
     "height": 206
    },
    "id": "zjB1eKveoOBN",
    "outputId": "3f999ece-6d73-44ba-bded-818c1102dc6f"
   },
   "outputs": [
    {
     "data": {
      "text/html": [
       "<div>\n",
       "<style scoped>\n",
       "    .dataframe tbody tr th:only-of-type {\n",
       "        vertical-align: middle;\n",
       "    }\n",
       "\n",
       "    .dataframe tbody tr th {\n",
       "        vertical-align: top;\n",
       "    }\n",
       "\n",
       "    .dataframe thead th {\n",
       "        text-align: right;\n",
       "    }\n",
       "</style>\n",
       "<table border=\"1\" class=\"dataframe\">\n",
       "  <thead>\n",
       "    <tr style=\"text-align: right;\">\n",
       "      <th></th>\n",
       "      <th>mcg</th>\n",
       "      <th>gvh</th>\n",
       "      <th>alm</th>\n",
       "      <th>mit</th>\n",
       "      <th>erl</th>\n",
       "      <th>pox</th>\n",
       "      <th>vac</th>\n",
       "      <th>nuc</th>\n",
       "    </tr>\n",
       "  </thead>\n",
       "  <tbody>\n",
       "    <tr>\n",
       "      <th>0</th>\n",
       "      <td>0.58</td>\n",
       "      <td>0.89</td>\n",
       "      <td>-0.35</td>\n",
       "      <td>-0.96</td>\n",
       "      <td>-0.10</td>\n",
       "      <td>-0.10</td>\n",
       "      <td>-0.34</td>\n",
       "      <td>-0.53</td>\n",
       "    </tr>\n",
       "    <tr>\n",
       "      <th>1</th>\n",
       "      <td>-0.51</td>\n",
       "      <td>1.37</td>\n",
       "      <td>-0.23</td>\n",
       "      <td>0.06</td>\n",
       "      <td>-0.10</td>\n",
       "      <td>-0.10</td>\n",
       "      <td>0.52</td>\n",
       "      <td>-0.53</td>\n",
       "    </tr>\n",
       "    <tr>\n",
       "      <th>2</th>\n",
       "      <td>1.02</td>\n",
       "      <td>0.97</td>\n",
       "      <td>-0.12</td>\n",
       "      <td>-0.81</td>\n",
       "      <td>-0.10</td>\n",
       "      <td>-0.10</td>\n",
       "      <td>0.52</td>\n",
       "      <td>-0.53</td>\n",
       "    </tr>\n",
       "    <tr>\n",
       "      <th>3</th>\n",
       "      <td>0.58</td>\n",
       "      <td>-0.48</td>\n",
       "      <td>0.81</td>\n",
       "      <td>-0.96</td>\n",
       "      <td>-0.10</td>\n",
       "      <td>-0.10</td>\n",
       "      <td>0.69</td>\n",
       "      <td>-0.53</td>\n",
       "    </tr>\n",
       "    <tr>\n",
       "      <th>4</th>\n",
       "      <td>-0.58</td>\n",
       "      <td>-0.48</td>\n",
       "      <td>-0.23</td>\n",
       "      <td>2.03</td>\n",
       "      <td>-0.10</td>\n",
       "      <td>-0.10</td>\n",
       "      <td>-0.34</td>\n",
       "      <td>-0.53</td>\n",
       "    </tr>\n",
       "  </tbody>\n",
       "</table>\n",
       "</div>"
      ],
      "text/plain": [
       "    mcg   gvh   alm   mit   erl   pox   vac   nuc\n",
       "0  0.58  0.89 -0.35 -0.96 -0.10 -0.10 -0.34 -0.53\n",
       "1 -0.51  1.37 -0.23  0.06 -0.10 -0.10  0.52 -0.53\n",
       "2  1.02  0.97 -0.12 -0.81 -0.10 -0.10  0.52 -0.53\n",
       "3  0.58 -0.48  0.81 -0.96 -0.10 -0.10  0.69 -0.53\n",
       "4 -0.58 -0.48 -0.23  2.03 -0.10 -0.10 -0.34 -0.53"
      ]
     },
     "execution_count": 79,
     "metadata": {},
     "output_type": "execute_result"
    }
   ],
   "source": [
    "# Preprocessing for features\n",
    "scaled_features_df = StandardScaler().fit_transform(df_yeast.values)\n",
    "scaled_features_df = pd.DataFrame(scaled_features_df, index=yeast_df.index, columns=yeast_df.columns)\n",
    "scaled_features_df.head()"
   ]
  },
  {
   "cell_type": "code",
   "execution_count": 80,
   "metadata": {
    "colab": {
     "base_uri": "https://localhost:8080/",
     "height": 424
    },
    "id": "anl78jsFbjcq",
    "outputId": "4b3ccb5f-03c5-4f4c-8ad7-d9f6d8204a27"
   },
   "outputs": [
    {
     "data": {
      "text/html": [
       "<div>\n",
       "<style scoped>\n",
       "    .dataframe tbody tr th:only-of-type {\n",
       "        vertical-align: middle;\n",
       "    }\n",
       "\n",
       "    .dataframe tbody tr th {\n",
       "        vertical-align: top;\n",
       "    }\n",
       "\n",
       "    .dataframe thead th {\n",
       "        text-align: right;\n",
       "    }\n",
       "</style>\n",
       "<table border=\"1\" class=\"dataframe\">\n",
       "  <thead>\n",
       "    <tr style=\"text-align: right;\">\n",
       "      <th></th>\n",
       "      <th>mcg</th>\n",
       "      <th>gvh</th>\n",
       "      <th>alm</th>\n",
       "      <th>mit</th>\n",
       "      <th>erl</th>\n",
       "      <th>pox</th>\n",
       "      <th>vac</th>\n",
       "      <th>nuc</th>\n",
       "    </tr>\n",
       "  </thead>\n",
       "  <tbody>\n",
       "    <tr>\n",
       "      <th>0</th>\n",
       "      <td>0.58</td>\n",
       "      <td>0.89</td>\n",
       "      <td>-0.35</td>\n",
       "      <td>-0.96</td>\n",
       "      <td>-0.10</td>\n",
       "      <td>-0.10</td>\n",
       "      <td>-0.34</td>\n",
       "      <td>-0.53</td>\n",
       "    </tr>\n",
       "    <tr>\n",
       "      <th>1</th>\n",
       "      <td>-0.51</td>\n",
       "      <td>1.37</td>\n",
       "      <td>-0.23</td>\n",
       "      <td>0.06</td>\n",
       "      <td>-0.10</td>\n",
       "      <td>-0.10</td>\n",
       "      <td>0.52</td>\n",
       "      <td>-0.53</td>\n",
       "    </tr>\n",
       "    <tr>\n",
       "      <th>2</th>\n",
       "      <td>1.02</td>\n",
       "      <td>0.97</td>\n",
       "      <td>-0.12</td>\n",
       "      <td>-0.81</td>\n",
       "      <td>-0.10</td>\n",
       "      <td>-0.10</td>\n",
       "      <td>0.52</td>\n",
       "      <td>-0.53</td>\n",
       "    </tr>\n",
       "    <tr>\n",
       "      <th>3</th>\n",
       "      <td>0.58</td>\n",
       "      <td>-0.48</td>\n",
       "      <td>0.81</td>\n",
       "      <td>-0.96</td>\n",
       "      <td>-0.10</td>\n",
       "      <td>-0.10</td>\n",
       "      <td>0.69</td>\n",
       "      <td>-0.53</td>\n",
       "    </tr>\n",
       "    <tr>\n",
       "      <th>4</th>\n",
       "      <td>-0.58</td>\n",
       "      <td>-0.48</td>\n",
       "      <td>-0.23</td>\n",
       "      <td>2.03</td>\n",
       "      <td>-0.10</td>\n",
       "      <td>-0.10</td>\n",
       "      <td>-0.34</td>\n",
       "      <td>-0.53</td>\n",
       "    </tr>\n",
       "    <tr>\n",
       "      <th>...</th>\n",
       "      <td>...</td>\n",
       "      <td>...</td>\n",
       "      <td>...</td>\n",
       "      <td>...</td>\n",
       "      <td>...</td>\n",
       "      <td>...</td>\n",
       "      <td>...</td>\n",
       "      <td>...</td>\n",
       "    </tr>\n",
       "    <tr>\n",
       "      <th>1479</th>\n",
       "      <td>2.26</td>\n",
       "      <td>0.97</td>\n",
       "      <td>-0.81</td>\n",
       "      <td>-0.67</td>\n",
       "      <td>-0.10</td>\n",
       "      <td>-0.10</td>\n",
       "      <td>0.52</td>\n",
       "      <td>-0.53</td>\n",
       "    </tr>\n",
       "    <tr>\n",
       "      <th>1480</th>\n",
       "      <td>-0.22</td>\n",
       "      <td>-0.56</td>\n",
       "      <td>1.27</td>\n",
       "      <td>1.01</td>\n",
       "      <td>-0.10</td>\n",
       "      <td>-0.10</td>\n",
       "      <td>-0.34</td>\n",
       "      <td>1.82</td>\n",
       "    </tr>\n",
       "    <tr>\n",
       "      <th>1481</th>\n",
       "      <td>1.24</td>\n",
       "      <td>0.57</td>\n",
       "      <td>-1.62</td>\n",
       "      <td>-0.52</td>\n",
       "      <td>-0.10</td>\n",
       "      <td>-0.10</td>\n",
       "      <td>1.04</td>\n",
       "      <td>-0.53</td>\n",
       "    </tr>\n",
       "    <tr>\n",
       "      <th>1482</th>\n",
       "      <td>-0.51</td>\n",
       "      <td>-0.81</td>\n",
       "      <td>1.15</td>\n",
       "      <td>-0.74</td>\n",
       "      <td>-0.10</td>\n",
       "      <td>-0.10</td>\n",
       "      <td>0.52</td>\n",
       "      <td>1.07</td>\n",
       "    </tr>\n",
       "    <tr>\n",
       "      <th>1483</th>\n",
       "      <td>1.09</td>\n",
       "      <td>0.32</td>\n",
       "      <td>0.46</td>\n",
       "      <td>-0.96</td>\n",
       "      <td>-0.10</td>\n",
       "      <td>-0.10</td>\n",
       "      <td>0.52</td>\n",
       "      <td>-0.53</td>\n",
       "    </tr>\n",
       "  </tbody>\n",
       "</table>\n",
       "<p>1484 rows × 8 columns</p>\n",
       "</div>"
      ],
      "text/plain": [
       "       mcg   gvh   alm   mit   erl   pox   vac   nuc\n",
       "0     0.58  0.89 -0.35 -0.96 -0.10 -0.10 -0.34 -0.53\n",
       "1    -0.51  1.37 -0.23  0.06 -0.10 -0.10  0.52 -0.53\n",
       "2     1.02  0.97 -0.12 -0.81 -0.10 -0.10  0.52 -0.53\n",
       "3     0.58 -0.48  0.81 -0.96 -0.10 -0.10  0.69 -0.53\n",
       "4    -0.58 -0.48 -0.23  2.03 -0.10 -0.10 -0.34 -0.53\n",
       "...    ...   ...   ...   ...   ...   ...   ...   ...\n",
       "1479  2.26  0.97 -0.81 -0.67 -0.10 -0.10  0.52 -0.53\n",
       "1480 -0.22 -0.56  1.27  1.01 -0.10 -0.10 -0.34  1.82\n",
       "1481  1.24  0.57 -1.62 -0.52 -0.10 -0.10  1.04 -0.53\n",
       "1482 -0.51 -0.81  1.15 -0.74 -0.10 -0.10  0.52  1.07\n",
       "1483  1.09  0.32  0.46 -0.96 -0.10 -0.10  0.52 -0.53\n",
       "\n",
       "[1484 rows x 8 columns]"
      ]
     },
     "execution_count": 80,
     "metadata": {},
     "output_type": "execute_result"
    }
   ],
   "source": [
    "scaled_features_df = scaled_features_df\n",
    "scaled_features_df"
   ]
  },
  {
   "cell_type": "code",
   "execution_count": 81,
   "metadata": {
    "id": "nxWDTfwfb0dW"
   },
   "outputs": [],
   "source": [
    "# PCA data preparation\n",
    "pca = PCA(n_components=2)\n",
    "pca_data = pca.fit_transform(scaled_features_df)"
   ]
  },
  {
   "cell_type": "code",
   "execution_count": 82,
   "metadata": {
    "colab": {
     "base_uri": "https://localhost:8080/"
    },
    "id": "Nm-oZTOEcu84",
    "outputId": "5935af63-7613-4a20-bd3e-a8fd5882df68"
   },
   "outputs": [
    {
     "data": {
      "text/plain": [
       "array([[ 0.58198136,  0.88848148, -0.3466451 , ..., -0.0991314 ,\n",
       "        -0.34417514, -0.5279193 ],\n",
       "       [-0.51089067,  1.37281104, -0.23122636, ..., -0.0991314 ,\n",
       "         0.52121948, -0.5279193 ],\n",
       "       [ 1.01913017,  0.96920307, -0.11580762, ..., -0.0991314 ,\n",
       "         0.52121948, -0.5279193 ],\n",
       "       ...,\n",
       "       [ 1.23770457,  0.5655951 , -1.61625127, ..., -0.0991314 ,\n",
       "         1.04045625, -0.5279193 ],\n",
       "       [-0.51089067, -0.80667199,  1.15379854, ..., -0.0991314 ,\n",
       "         0.52121948,  1.06900494],\n",
       "       [ 1.0919883 ,  0.32343032,  0.46128609, ..., -0.0991314 ,\n",
       "         0.52121948, -0.5279193 ]])"
      ]
     },
     "execution_count": 82,
     "metadata": {},
     "output_type": "execute_result"
    }
   ],
   "source": [
    "scaled_features_df = scaled_features_df.to_numpy()\n",
    "scaled_features_df"
   ]
  },
  {
   "cell_type": "markdown",
   "metadata": {
    "id": "we0tYbCcgh_C"
   },
   "source": [
    "Begin Clustering on Scaled DF (Without PCA)"
   ]
  },
  {
   "cell_type": "code",
   "execution_count": 83,
   "metadata": {
    "id": "2FucW5s2oOEk"
   },
   "outputs": [],
   "source": [
    "import numpy as np\n",
    "from sklearn.neighbors import NearestNeighbors\n",
    "# n_neighbors = 5 as kneighbors function returns distance of point to itself (i.e. first column will be zeros) \n",
    "nbrs = NearestNeighbors(n_neighbors=4).fit(scaled_features_df)\n",
    "# Find the k-neighbors of a point\n",
    "neigh_dist, neigh_ind = nbrs.kneighbors(scaled_features_df)\n",
    "# sort the neighbor distances (lengths to points) in ascending order\n",
    "# axis = 0 represents sort along first axis i.e. sort along row\n",
    "sort_neigh_dist = np.sort(neigh_dist, axis=0)"
   ]
  },
  {
   "cell_type": "code",
   "execution_count": 84,
   "metadata": {
    "colab": {
     "base_uri": "https://localhost:8080/",
     "height": 421
    },
    "id": "HKPIqoht_Z4r",
    "outputId": "3d6acc44-1d35-4c00-a068-4309fceb5818"
   },
   "outputs": [
    {
     "name": "stdout",
     "output_type": "stream",
     "text": [
      "1.3870978459586059\n"
     ]
    },
    {
     "data": {
      "image/png": "[encoded data removed]",
      "text/plain": [
       "<Figure size 432x432 with 1 Axes>"
      ]
     },
     "metadata": {
      "needs_background": "light"
     },
     "output_type": "display_data"
    }
   ],
   "source": [
    "from kneed import KneeLocator\n",
    "import matplotlib.pyplot as plt\n",
    "k_dist = sort_neigh_dist[:, 3]\n",
    "i = np.arange(len(k_dist))\n",
    "knee = KneeLocator(i, k_dist, S=1, curve='convex', direction='increasing', interp_method='polynomial')\n",
    "knee.plot_knee()\n",
    "plt.xlabel(\"Points\")\n",
    "plt.ylabel(\"Distance\")\n",
    "print(k_dist[knee.knee])"
   ]
  },
  {
   "cell_type": "code",
   "execution_count": 85,
   "metadata": {
    "colab": {
     "base_uri": "https://localhost:8080/",
     "height": 279
    },
    "id": "6wRo8WTMohMd",
    "outputId": "6098497e-956d-43f2-858b-78a588a94740"
   },
   "outputs": [
    {
     "data": {
      "image/png": "[encoded data removed]",
      "text/plain": [
       "<Figure size 432x288 with 1 Axes>"
      ]
     },
     "metadata": {
      "needs_background": "light"
     },
     "output_type": "display_data"
    }
   ],
   "source": [
    "plt.plot(k_dist)\n",
    "plt.axhline(y=1.44, linewidth=1, linestyle='dashed', color='k')\n",
    "plt.ylabel(\"k-NN distance\")\n",
    "plt.xlabel(\"Sorted observations (3rd NN)\")\n",
    "plt.show()"
   ]
  },
  {
   "cell_type": "code",
   "execution_count": 86,
   "metadata": {
    "colab": {
     "base_uri": "https://localhost:8080/"
    },
    "id": "ltDhOjGPpEtg",
    "outputId": "b3a6fb10-abd5-49ae-8a88-12a36c89789d"
   },
   "outputs": [
    {
     "name": "stdout",
     "output_type": "stream",
     "text": [
      "[0 0 0 ... 0 0 0]\n",
      "Estimated number of clusters: 3\n",
      "Estimated number of noise points: 109\n",
      "Homogeneity: 0.021\n",
      "Completeness: 0.117\n",
      "V-measure: 0.035\n",
      "Adjusted Rand Index: 0.017\n",
      "Adjusted Mutual Information: 0.028\n",
      "Silhouette Score: 0.164\n",
      "Davies Bouldin score is: 2.917\n",
      "Calinski Harabasz score is:  19.142\n",
      "Classification accuracy:  0.29582210242587603\n"
     ]
    }
   ],
   "source": [
    "clusters = DBSCAN(eps=1.38, min_samples=4).fit(scaled_features_df)\n",
    "train_data = pd.DataFrame(scaled_features_df)\n",
    "\n",
    "# get cluster labels\n",
    "clusters.labels_\n",
    "\n",
    "core_samples_mask = np.zeros_like(clusters.labels_, dtype=bool)\n",
    "core_samples_mask[clusters.core_sample_indices_] = True\n",
    "labels = clusters.labels_\n",
    "print(labels)\n",
    "# Number of clusters in labels, ignoring noise if present.\n",
    "n_clusters_ = len(set(labels)) - (1 if -1 in labels else 0)\n",
    "n_noise_ = list(labels).count(-1)\n",
    "print(\"Estimated number of clusters: %d\" % n_clusters_)\n",
    "print(\"Estimated number of noise points: %d\" % n_noise_)\n",
    "print(\"Homogeneity: %0.3f\" % metrics.homogeneity_score(yeast_label, labels))\n",
    "print(\"Completeness: %0.3f\" % metrics.completeness_score(yeast_label, labels))\n",
    "print(\"V-measure: %0.3f\" % metrics.v_measure_score(yeast_label, labels))\n",
    "print(\"Adjusted Rand Index: %0.3f\" % metrics.adjusted_rand_score(yeast_label, labels))\n",
    "print(\n",
    "    \"Adjusted Mutual Information: %0.3f\"\n",
    "    % metrics.adjusted_mutual_info_score(yeast_label, labels)\n",
    ")\n",
    "#silhouette (cohesion compared to separation, high value indicates well matched to its own cluster and poorly to \n",
    "#neighboring clusters)\n",
    "print(\"Silhouette Score: %0.3f\" % metrics.silhouette_score(df_yeast, labels))\n",
    "\n",
    "#Davies-Bouldin Index (cluster overlap by measuring the ratio of the sum of within-cluster scatters to between-cluster \n",
    "#separations, low value indicates indicates that the clusters are compact and far)\n",
    "print('Davies Bouldin score is: %0.3f' % metrics.davies_bouldin_score(df_yeast, labels))\n",
    "\n",
    "#calinski harabasz score (Well-defined clusters have a large between-cluster variance and a small within-cluster variance,\n",
    "#larger index value indicates optimal number of clusters)\n",
    "print('Calinski Harabasz score is:  %0.3f' % metrics.calinski_harabasz_score(df_yeast, labels))\n",
    "\n",
    "test_data = pd.Series(yeast_label)\n",
    "classification_accuracy(train_data, labels, test_data)"
   ]
  },
  {
   "cell_type": "markdown",
   "metadata": {
    "id": "b4PC_emvhcBX"
   },
   "source": [
    "Clustering on Scaled DF with PCA "
   ]
  },
  {
   "cell_type": "code",
   "execution_count": 87,
   "metadata": {
    "id": "pRUhugPFqWh9"
   },
   "outputs": [],
   "source": [
    "# PCA considered\n",
    "from sklearn.decomposition import PCA # import PCA\n",
    "\n",
    "pca = PCA(n_components=2)\n",
    "pca.fit(scaled_features_df)\n",
    "dfd_yeast = pca.transform(scaled_features_df)\n",
    "# pca.fit(df_yeast)\n",
    "# dfd_yeast = pca.transform(df_yeast)"
   ]
  },
  {
   "cell_type": "code",
   "execution_count": 88,
   "metadata": {
    "id": "A28qhBaQqmuG"
   },
   "outputs": [],
   "source": [
    "import numpy as np\n",
    "from sklearn.neighbors import NearestNeighbors\n",
    "# n_neighbors = 3 as kneighbors function returns distance of point to itself (i.e. first column will be zeros) \n",
    "nbrs = NearestNeighbors(n_neighbors=4).fit(dfd_yeast)\n",
    "# Find the k-neighbors of a point\n",
    "neigh_dist, neigh_ind = nbrs.kneighbors(dfd_yeast)\n",
    "# sort the neighbor distances (lengths to points) in ascending order\n",
    "# axis = 0 represents sort along first axis i.e. sort along row\n",
    "sort_neigh_dist = np.sort(neigh_dist, axis=0)"
   ]
  },
  {
   "cell_type": "code",
   "execution_count": 89,
   "metadata": {
    "colab": {
     "base_uri": "https://localhost:8080/",
     "height": 421
    },
    "id": "DGSedRVEqqWv",
    "outputId": "7c10bd86-7525-49d0-9323-1a5ed2c2b5bf"
   },
   "outputs": [
    {
     "name": "stdout",
     "output_type": "stream",
     "text": [
      "0.2516186446814561\n"
     ]
    },
    {
     "data": {
      "image/png": "[encoded data removed]",
      "text/plain": [
       "<Figure size 432x432 with 1 Axes>"
      ]
     },
     "metadata": {
      "needs_background": "light"
     },
     "output_type": "display_data"
    }
   ],
   "source": [
    "import matplotlib.pyplot as plt\n",
    "from kneed import KneeLocator\n",
    "\n",
    "k_dist = sort_neigh_dist[:, 3]\n",
    "i = np.arange(len(k_dist))\n",
    "knee = KneeLocator(i, k_dist, S=1, curve='convex', direction='increasing', interp_method='polynomial')\n",
    "knee.plot_knee()\n",
    "plt.xlabel(\"Points\")\n",
    "plt.ylabel(\"Distance\")\n",
    "print(k_dist[knee.knee])\n"
   ]
  },
  {
   "cell_type": "code",
   "execution_count": 90,
   "metadata": {
    "colab": {
     "base_uri": "https://localhost:8080/",
     "height": 279
    },
    "id": "teSKNeMl6zq0",
    "outputId": "58d44f04-1868-4480-93cc-1fd229768427"
   },
   "outputs": [
    {
     "data": {
      "image/png": "[encoded data removed]",
      "text/plain": [
       "<Figure size 432x288 with 1 Axes>"
      ]
     },
     "metadata": {
      "needs_background": "light"
     },
     "output_type": "display_data"
    }
   ],
   "source": [
    "plt.plot(k_dist)\n",
    "plt.axhline(y=0.25, linewidth=1, linestyle='dashed', color='k')\n",
    "plt.ylabel(\"k-NN distance\")\n",
    "plt.xlabel(\"Sorted observations (4th NN)\")\n",
    "plt.show()"
   ]
  },
  {
   "cell_type": "code",
   "execution_count": 91,
   "metadata": {
    "colab": {
     "base_uri": "https://localhost:8080/"
    },
    "id": "qWV7NW7eqqZK",
    "outputId": "b0bb89c3-7963-4fef-fabb-f197e4900499"
   },
   "outputs": [
    {
     "name": "stdout",
     "output_type": "stream",
     "text": [
      "[0 0 0 ... 0 0 0]\n",
      "Estimated number of clusters: 8\n",
      "Estimated number of noise points: 111\n",
      "Homogeneity: 0.036\n",
      "Completeness: 0.148\n",
      "V-measure: 0.058\n",
      "Adjusted Rand Index: 0.022\n",
      "Adjusted Mutual Information: 0.042\n",
      "Silhouette Score: -0.047\n",
      "Davies Bouldin score is: 1.889\n",
      "Calinski Harabasz score is:  20.134\n",
      "Classification accuracy:  0.28706199460916443\n"
     ]
    }
   ],
   "source": [
    "# Optimal is 0.25\n",
    "\n",
    "#clusters = DBSCAN(eps=0.055, min_samples=4).fit(dfd_yeast)\n",
    "# clusters = DBSCAN(eps=0.02, min_samples=4).fit(dfd_yeast)\n",
    "clusters = DBSCAN(eps=0.25, min_samples=4).fit(dfd_yeast)\n",
    "train_data = pd.DataFrame(dfd_yeast)\n",
    "\n",
    "# get cluster labels\n",
    "clusters.labels_\n",
    "\n",
    "core_samples_mask = np.zeros_like(clusters.labels_, dtype=bool)\n",
    "core_samples_mask[clusters.core_sample_indices_] = True\n",
    "labels = clusters.labels_\n",
    "print(labels)\n",
    "# Number of clusters in labels, ignoring noise if present.\n",
    "n_clusters_ = len(set(labels)) - (1 if -1 in labels else 0)\n",
    "n_noise_ = list(labels).count(-1)\n",
    "print(\"Estimated number of clusters: %d\" % n_clusters_)\n",
    "print(\"Estimated number of noise points: %d\" % n_noise_)\n",
    "print(\"Homogeneity: %0.3f\" % metrics.homogeneity_score(yeast_label, labels))\n",
    "print(\"Completeness: %0.3f\" % metrics.completeness_score(yeast_label, labels))\n",
    "print(\"V-measure: %0.3f\" % metrics.v_measure_score(yeast_label, labels))\n",
    "print(\"Adjusted Rand Index: %0.3f\" % metrics.adjusted_rand_score(yeast_label, labels))\n",
    "print(\n",
    "    \"Adjusted Mutual Information: %0.3f\"\n",
    "    % metrics.adjusted_mutual_info_score(yeast_label, labels)\n",
    ")\n",
    "\n",
    "print(\"Silhouette Score: %0.3f\" % metrics.silhouette_score(dfd_yeast, labels))\n",
    "\n",
    "#silhouette (cohesion compared to separation, high value indicates well matched to its own cluster and poorly to \n",
    "#neighboring clusters)\n",
    "\n",
    "#Davies-Bouldin Index (cluster overlap by measuring the ratio of the sum of within-cluster scatters to between-cluster \n",
    "#separations, low value indicates indicates that the clusters are compact and far)\n",
    "print('Davies Bouldin score is: %0.3f' % metrics.davies_bouldin_score(dfd_yeast, labels))\n",
    "\n",
    "#calinski harabasz score (Well-defined clusters have a large between-cluster variance and a small within-cluster variance,\n",
    "#larger index value indicates optimal number of clusters)\n",
    "print('Calinski Harabasz score is:  %0.3f' % metrics.calinski_harabasz_score(dfd_yeast, labels))\n",
    "\n",
    "\n",
    "test_data = pd.Series(yeast_label)\n",
    "classification_accuracy(train_data, labels, test_data)"
   ]
  },
  {
   "cell_type": "code",
   "execution_count": 92,
   "metadata": {
    "colab": {
     "base_uri": "https://localhost:8080/",
     "height": 265
    },
    "id": "pXqSNU4LjH3F",
    "outputId": "6f47d713-797b-46ab-bb40-aec6b9ad7924"
   },
   "outputs": [
    {
     "data": {
      "image/png": "[encoded data removed]",
      "text/plain": [
       "<Figure size 432x288 with 1 Axes>"
      ]
     },
     "metadata": {
      "needs_background": "light"
     },
     "output_type": "display_data"
    }
   ],
   "source": [
    "dfd_yeast_df = pd.DataFrame(dfd_yeast)\n",
    "dfd_yeast_df.columns = ['P1', 'P2']\n",
    "plt.figure()\n",
    "plt.scatter(dfd_yeast_df['P1'], dfd_yeast_df['P2'],\n",
    "            c = labels, cmap ='rainbow')\n",
    "plt.show()"
   ]
  },
  {
   "cell_type": "markdown",
   "metadata": {
    "id": "BxdSeHKpiibH"
   },
   "source": [
    "# Segemented Dataset"
   ]
  },
  {
   "cell_type": "code",
   "execution_count": 40,
   "metadata": {
    "id": "zO1rrhwiijS7"
   },
   "outputs": [],
   "source": [
    "from sklearn import preprocessing \n",
    "\n",
    "cust_df = pd.read_csv('segmented_customers.csv')"
   ]
  },
  {
   "cell_type": "code",
   "execution_count": 41,
   "metadata": {
    "id": "F637FjbYimsm"
   },
   "outputs": [],
   "source": [
    "df_cust = cust_df.iloc[:, 1:5]\n",
    "cust_label = cust_df.iloc[:,5]"
   ]
  },
  {
   "cell_type": "code",
   "execution_count": 42,
   "metadata": {
    "colab": {
     "base_uri": "https://localhost:8080/",
     "height": 310
    },
    "id": "OYFTHknpg_FL",
    "outputId": "858f6534-44dd-44f2-ae9d-bc3210120b6a"
   },
   "outputs": [
    {
     "name": "stderr",
     "output_type": "stream",
     "text": [
      "<ipython-input-42-861d5a490d18>:2: SettingWithCopyWarning: \n",
      "A value is trying to be set on a copy of a slice from a DataFrame.\n",
      "Try using .loc[row_indexer,col_indexer] = value instead\n",
      "\n",
      "See the caveats in the documentation: https://pandas.pydata.org/pandas-docs/stable/user_guide/indexing.html#returning-a-view-versus-a-copy\n",
      "  df_cust['Gender'] = label_encoder.fit_transform(df_cust['Gender'])\n"
     ]
    },
    {
     "data": {
      "text/html": [
       "<div>\n",
       "<style scoped>\n",
       "    .dataframe tbody tr th:only-of-type {\n",
       "        vertical-align: middle;\n",
       "    }\n",
       "\n",
       "    .dataframe tbody tr th {\n",
       "        vertical-align: top;\n",
       "    }\n",
       "\n",
       "    .dataframe thead th {\n",
       "        text-align: right;\n",
       "    }\n",
       "</style>\n",
       "<table border=\"1\" class=\"dataframe\">\n",
       "  <thead>\n",
       "    <tr style=\"text-align: right;\">\n",
       "      <th></th>\n",
       "      <th>Gender</th>\n",
       "    </tr>\n",
       "  </thead>\n",
       "  <tbody>\n",
       "    <tr>\n",
       "      <th>0</th>\n",
       "      <td>1</td>\n",
       "    </tr>\n",
       "    <tr>\n",
       "      <th>1</th>\n",
       "      <td>1</td>\n",
       "    </tr>\n",
       "    <tr>\n",
       "      <th>2</th>\n",
       "      <td>0</td>\n",
       "    </tr>\n",
       "    <tr>\n",
       "      <th>3</th>\n",
       "      <td>0</td>\n",
       "    </tr>\n",
       "    <tr>\n",
       "      <th>4</th>\n",
       "      <td>0</td>\n",
       "    </tr>\n",
       "  </tbody>\n",
       "</table>\n",
       "</div>"
      ],
      "text/plain": [
       "   Gender\n",
       "0       1\n",
       "1       1\n",
       "2       0\n",
       "3       0\n",
       "4       0"
      ]
     },
     "execution_count": 42,
     "metadata": {},
     "output_type": "execute_result"
    }
   ],
   "source": [
    "label_encoder = preprocessing.LabelEncoder()\n",
    "df_cust['Gender'] = label_encoder.fit_transform(df_cust['Gender'])\n",
    "df2 = df_cust.iloc[:, [0]]\n",
    "df2.head()"
   ]
  },
  {
   "cell_type": "code",
   "execution_count": 43,
   "metadata": {
    "colab": {
     "base_uri": "https://localhost:8080/",
     "height": 206
    },
    "id": "JFos9R7jhu4o",
    "outputId": "3eedce08-9c0f-4abb-ba6a-6753028bfd9e"
   },
   "outputs": [
    {
     "data": {
      "text/html": [
       "<div>\n",
       "<style scoped>\n",
       "    .dataframe tbody tr th:only-of-type {\n",
       "        vertical-align: middle;\n",
       "    }\n",
       "\n",
       "    .dataframe tbody tr th {\n",
       "        vertical-align: top;\n",
       "    }\n",
       "\n",
       "    .dataframe thead th {\n",
       "        text-align: right;\n",
       "    }\n",
       "</style>\n",
       "<table border=\"1\" class=\"dataframe\">\n",
       "  <thead>\n",
       "    <tr style=\"text-align: right;\">\n",
       "      <th></th>\n",
       "      <th>Age</th>\n",
       "      <th>Annual Income (k$)</th>\n",
       "      <th>Spending Score (1-100)</th>\n",
       "    </tr>\n",
       "  </thead>\n",
       "  <tbody>\n",
       "    <tr>\n",
       "      <th>0</th>\n",
       "      <td>19</td>\n",
       "      <td>15</td>\n",
       "      <td>39</td>\n",
       "    </tr>\n",
       "    <tr>\n",
       "      <th>1</th>\n",
       "      <td>21</td>\n",
       "      <td>15</td>\n",
       "      <td>81</td>\n",
       "    </tr>\n",
       "    <tr>\n",
       "      <th>2</th>\n",
       "      <td>20</td>\n",
       "      <td>16</td>\n",
       "      <td>6</td>\n",
       "    </tr>\n",
       "    <tr>\n",
       "      <th>3</th>\n",
       "      <td>23</td>\n",
       "      <td>16</td>\n",
       "      <td>77</td>\n",
       "    </tr>\n",
       "    <tr>\n",
       "      <th>4</th>\n",
       "      <td>31</td>\n",
       "      <td>17</td>\n",
       "      <td>40</td>\n",
       "    </tr>\n",
       "  </tbody>\n",
       "</table>\n",
       "</div>"
      ],
      "text/plain": [
       "   Age  Annual Income (k$)  Spending Score (1-100)\n",
       "0   19                  15                      39\n",
       "1   21                  15                      81\n",
       "2   20                  16                       6\n",
       "3   23                  16                      77\n",
       "4   31                  17                      40"
      ]
     },
     "execution_count": 43,
     "metadata": {},
     "output_type": "execute_result"
    }
   ],
   "source": [
    "df_cust = df_cust.drop(columns=['Gender'])\n",
    "df_cust.head()"
   ]
  },
  {
   "cell_type": "code",
   "execution_count": 44,
   "metadata": {
    "colab": {
     "base_uri": "https://localhost:8080/",
     "height": 206
    },
    "id": "5xkM6UHlABlx",
    "outputId": "8fe47864-776f-4a21-e295-6816185bfed8"
   },
   "outputs": [
    {
     "data": {
      "text/html": [
       "<div>\n",
       "<style scoped>\n",
       "    .dataframe tbody tr th:only-of-type {\n",
       "        vertical-align: middle;\n",
       "    }\n",
       "\n",
       "    .dataframe tbody tr th {\n",
       "        vertical-align: top;\n",
       "    }\n",
       "\n",
       "    .dataframe thead th {\n",
       "        text-align: right;\n",
       "    }\n",
       "</style>\n",
       "<table border=\"1\" class=\"dataframe\">\n",
       "  <thead>\n",
       "    <tr style=\"text-align: right;\">\n",
       "      <th></th>\n",
       "      <th>Age</th>\n",
       "      <th>Annual Income (k$)</th>\n",
       "      <th>Spending Score (1-100)</th>\n",
       "    </tr>\n",
       "  </thead>\n",
       "  <tbody>\n",
       "    <tr>\n",
       "      <th>0</th>\n",
       "      <td>-1.42</td>\n",
       "      <td>-1.74</td>\n",
       "      <td>-0.43</td>\n",
       "    </tr>\n",
       "    <tr>\n",
       "      <th>1</th>\n",
       "      <td>-1.28</td>\n",
       "      <td>-1.74</td>\n",
       "      <td>1.20</td>\n",
       "    </tr>\n",
       "    <tr>\n",
       "      <th>2</th>\n",
       "      <td>-1.35</td>\n",
       "      <td>-1.70</td>\n",
       "      <td>-1.72</td>\n",
       "    </tr>\n",
       "    <tr>\n",
       "      <th>3</th>\n",
       "      <td>-1.14</td>\n",
       "      <td>-1.70</td>\n",
       "      <td>1.04</td>\n",
       "    </tr>\n",
       "    <tr>\n",
       "      <th>4</th>\n",
       "      <td>-0.56</td>\n",
       "      <td>-1.66</td>\n",
       "      <td>-0.40</td>\n",
       "    </tr>\n",
       "  </tbody>\n",
       "</table>\n",
       "</div>"
      ],
      "text/plain": [
       "    Age  Annual Income (k$)  Spending Score (1-100)\n",
       "0 -1.42               -1.74                   -0.43\n",
       "1 -1.28               -1.74                    1.20\n",
       "2 -1.35               -1.70                   -1.72\n",
       "3 -1.14               -1.70                    1.04\n",
       "4 -0.56               -1.66                   -0.40"
      ]
     },
     "execution_count": 44,
     "metadata": {},
     "output_type": "execute_result"
    }
   ],
   "source": [
    "# Preprocessing for features \n",
    "scaled_features_df = StandardScaler().fit_transform(df_cust.values)\n",
    "scaled_features_df = pd.DataFrame(scaled_features_df, index=df_cust.index, columns=df_cust.columns)\n",
    "scaled_features_df.head()"
   ]
  },
  {
   "cell_type": "code",
   "execution_count": 45,
   "metadata": {
    "colab": {
     "base_uri": "https://localhost:8080/",
     "height": 424
    },
    "id": "vQaDxZ4Cm9J_",
    "outputId": "d2779fce-1242-4b98-ce6f-5e0c3c693db7"
   },
   "outputs": [
    {
     "data": {
      "text/html": [
       "<div>\n",
       "<style scoped>\n",
       "    .dataframe tbody tr th:only-of-type {\n",
       "        vertical-align: middle;\n",
       "    }\n",
       "\n",
       "    .dataframe tbody tr th {\n",
       "        vertical-align: top;\n",
       "    }\n",
       "\n",
       "    .dataframe thead th {\n",
       "        text-align: right;\n",
       "    }\n",
       "</style>\n",
       "<table border=\"1\" class=\"dataframe\">\n",
       "  <thead>\n",
       "    <tr style=\"text-align: right;\">\n",
       "      <th></th>\n",
       "      <th>Age</th>\n",
       "      <th>Annual Income (k$)</th>\n",
       "      <th>Spending Score (1-100)</th>\n",
       "      <th>Gender</th>\n",
       "    </tr>\n",
       "  </thead>\n",
       "  <tbody>\n",
       "    <tr>\n",
       "      <th>0</th>\n",
       "      <td>-1.42</td>\n",
       "      <td>-1.74</td>\n",
       "      <td>-0.43</td>\n",
       "      <td>1</td>\n",
       "    </tr>\n",
       "    <tr>\n",
       "      <th>1</th>\n",
       "      <td>-1.28</td>\n",
       "      <td>-1.74</td>\n",
       "      <td>1.20</td>\n",
       "      <td>1</td>\n",
       "    </tr>\n",
       "    <tr>\n",
       "      <th>2</th>\n",
       "      <td>-1.35</td>\n",
       "      <td>-1.70</td>\n",
       "      <td>-1.72</td>\n",
       "      <td>0</td>\n",
       "    </tr>\n",
       "    <tr>\n",
       "      <th>3</th>\n",
       "      <td>-1.14</td>\n",
       "      <td>-1.70</td>\n",
       "      <td>1.04</td>\n",
       "      <td>0</td>\n",
       "    </tr>\n",
       "    <tr>\n",
       "      <th>4</th>\n",
       "      <td>-0.56</td>\n",
       "      <td>-1.66</td>\n",
       "      <td>-0.40</td>\n",
       "      <td>0</td>\n",
       "    </tr>\n",
       "    <tr>\n",
       "      <th>...</th>\n",
       "      <td>...</td>\n",
       "      <td>...</td>\n",
       "      <td>...</td>\n",
       "      <td>...</td>\n",
       "    </tr>\n",
       "    <tr>\n",
       "      <th>195</th>\n",
       "      <td>-0.28</td>\n",
       "      <td>2.27</td>\n",
       "      <td>1.12</td>\n",
       "      <td>0</td>\n",
       "    </tr>\n",
       "    <tr>\n",
       "      <th>196</th>\n",
       "      <td>0.44</td>\n",
       "      <td>2.50</td>\n",
       "      <td>-0.86</td>\n",
       "      <td>0</td>\n",
       "    </tr>\n",
       "    <tr>\n",
       "      <th>197</th>\n",
       "      <td>-0.49</td>\n",
       "      <td>2.50</td>\n",
       "      <td>0.92</td>\n",
       "      <td>1</td>\n",
       "    </tr>\n",
       "    <tr>\n",
       "      <th>198</th>\n",
       "      <td>-0.49</td>\n",
       "      <td>2.92</td>\n",
       "      <td>-1.25</td>\n",
       "      <td>1</td>\n",
       "    </tr>\n",
       "    <tr>\n",
       "      <th>199</th>\n",
       "      <td>-0.64</td>\n",
       "      <td>2.92</td>\n",
       "      <td>1.27</td>\n",
       "      <td>1</td>\n",
       "    </tr>\n",
       "  </tbody>\n",
       "</table>\n",
       "<p>200 rows × 4 columns</p>\n",
       "</div>"
      ],
      "text/plain": [
       "      Age  Annual Income (k$)  Spending Score (1-100)  Gender\n",
       "0   -1.42               -1.74                   -0.43       1\n",
       "1   -1.28               -1.74                    1.20       1\n",
       "2   -1.35               -1.70                   -1.72       0\n",
       "3   -1.14               -1.70                    1.04       0\n",
       "4   -0.56               -1.66                   -0.40       0\n",
       "..    ...                 ...                     ...     ...\n",
       "195 -0.28                2.27                    1.12       0\n",
       "196  0.44                2.50                   -0.86       0\n",
       "197 -0.49                2.50                    0.92       1\n",
       "198 -0.49                2.92                   -1.25       1\n",
       "199 -0.64                2.92                    1.27       1\n",
       "\n",
       "[200 rows x 4 columns]"
      ]
     },
     "execution_count": 45,
     "metadata": {},
     "output_type": "execute_result"
    }
   ],
   "source": [
    "scaled_features_df = scaled_features_df.join(df2)\n",
    "scaled_features_df\n"
   ]
  },
  {
   "cell_type": "code",
   "execution_count": 46,
   "metadata": {
    "id": "FJJrQZO_hzO-"
   },
   "outputs": [],
   "source": [
    "# PCA data \n",
    "pca = PCA(n_components=2)\n",
    "pca_data = pca.fit_transform(scaled_features_df)\n",
    "\n",
    "# Processing of the labels\n",
    "M = cust_label.to_numpy()\n",
    "cust_true_label = M"
   ]
  },
  {
   "cell_type": "code",
   "execution_count": 47,
   "metadata": {
    "id": "6VJtJWJXliIQ"
   },
   "outputs": [],
   "source": [
    "scaled_features_df = scaled_features_df.to_numpy()"
   ]
  },
  {
   "cell_type": "markdown",
   "metadata": {
    "id": "xEuzC8Vblo3S"
   },
   "source": [
    "Begin Clustering on Scaled DF"
   ]
  },
  {
   "cell_type": "code",
   "execution_count": 48,
   "metadata": {
    "id": "ySmGd254jJAC"
   },
   "outputs": [],
   "source": [
    "import numpy as np\n",
    "from sklearn.neighbors import NearestNeighbors\n",
    "# n_neighbors = 5 as kneighbors function returns distance of point to itself (i.e. first column will be zeros) \n",
    "nbrs = NearestNeighbors(n_neighbors=5).fit(scaled_features_df)\n",
    "# Find the k-neighbors of a point\n",
    "neigh_dist, neigh_ind = nbrs.kneighbors(scaled_features_df)\n",
    "# sort the neighbor distances (lengths to points) in ascending order\n",
    "# axis = 0 represents sort along first axis i.e. sort along row\n",
    "sort_neigh_dist = np.sort(neigh_dist, axis=0)"
   ]
  },
  {
   "cell_type": "code",
   "execution_count": 49,
   "metadata": {
    "colab": {
     "base_uri": "https://localhost:8080/",
     "height": 279
    },
    "id": "Ri0y3UqsjJVt",
    "outputId": "78717de7-ff6f-4d13-83b5-f1b09f521742"
   },
   "outputs": [
    {
     "data": {
      "image/png": "[encoded data removed]",
      "text/plain": [
       "<Figure size 432x288 with 1 Axes>"
      ]
     },
     "metadata": {
      "needs_background": "light"
     },
     "output_type": "display_data"
    }
   ],
   "source": [
    "import matplotlib.pyplot as plt\n",
    "k_dist = sort_neigh_dist[:, 4]\n",
    "plt.plot(k_dist)\n",
    "plt.axhline(y=0.8, linewidth=1, linestyle='dashed', color='k')\n",
    "plt.ylabel(\"k-NN distance\")\n",
    "plt.xlabel(\"Sorted observations (4th NN)\")\n",
    "plt.show()"
   ]
  },
  {
   "cell_type": "code",
   "execution_count": 50,
   "metadata": {
    "colab": {
     "base_uri": "https://localhost:8080/",
     "height": 421
    },
    "id": "9bZ35DBP9FIa",
    "outputId": "bcd702b5-2ed9-49b2-9711-a2713fdf1d32"
   },
   "outputs": [
    {
     "name": "stdout",
     "output_type": "stream",
     "text": [
      "0.9001885236266826\n"
     ]
    },
    {
     "data": {
      "image/png": "[encoded data removed]",
      "text/plain": [
       "<Figure size 432x432 with 1 Axes>"
      ]
     },
     "metadata": {
      "needs_background": "light"
     },
     "output_type": "display_data"
    }
   ],
   "source": [
    "from kneed import KneeLocator\n",
    "i = np.arange(len(k_dist))\n",
    "knee = KneeLocator(i, k_dist, S=1, curve='convex', direction='increasing', interp_method='polynomial')\n",
    "knee.plot_knee()\n",
    "plt.xlabel(\"Points\")\n",
    "plt.ylabel(\"Distance\")\n",
    "print(k_dist[knee.knee])"
   ]
  },
  {
   "cell_type": "code",
   "execution_count": 51,
   "metadata": {
    "colab": {
     "base_uri": "https://localhost:8080/"
    },
    "id": "ueUPtJDTjNy1",
    "outputId": "0ba33180-3f45-4738-efbd-e91ab67a49ca"
   },
   "outputs": [
    {
     "name": "stdout",
     "output_type": "stream",
     "text": [
      "[-1  0 -1  1  1  1  1  1 -1  1 -1  1  1  1 -1  0  1  0  0  1 -1  0  1  0\n",
      "  1  0  1  0  1  1 -1  1 -1  0  1  1  1  1  1  1  1  0  0  1  1  1  1  1\n",
      "  1  1  1  0  1  0  1  0  1  0  1  0  0  0  1  1  0  0  1  1  0  1  0  1\n",
      "  1  1  0  0  1  0  1  1  0  0  0  1  1  0  1  1  1  1  1  0  0  1  1  0\n",
      "  1  1  0  0  1  1  0  0  0  1  1  0  0  0  0  1  1  0  1  1  1  1  1  1\n",
      "  0  1  1  0  1  1  0  0  0  0  0  0  1  1  0  1  1  0  0  1  1  0  1  1\n",
      "  0  0  0  1  1  0  0  0  1  1  1  1  0  1  0  1  1  1  0  1  0  1  0  1\n",
      "  1  0  0  0  0  0  1  1  0  0  0  0  1  1  0  1  1  0  1  0  1  1  1  1\n",
      " -1  1  1  1 -1 -1 -1 -1]\n",
      "Estimated number of clusters: 2\n",
      "Estimated number of noise points: 13\n",
      "Homogeneity: 0.062\n",
      "Completeness: 0.105\n",
      "V-measure: 0.078\n",
      "Adjusted Rand Index: 0.032\n",
      "Adjusted Mutual Information: 0.060\n",
      "Silhouette Score: 0.100\n",
      "Davies Bouldin score is: 3.633\n",
      "Calinski Harabasz score is:  10.402\n"
     ]
    }
   ],
   "source": [
    "clusters = DBSCAN(eps=0.9, min_samples=5).fit(scaled_features_df)\n",
    "# get cluster labels\n",
    "clusters.labels_\n",
    "\n",
    "core_samples_mask = np.zeros_like(clusters.labels_, dtype=bool)\n",
    "core_samples_mask[clusters.core_sample_indices_] = True\n",
    "labels = clusters.labels_\n",
    "print(labels)\n",
    "# Number of clusters in labels, ignoring noise if present.\n",
    "n_clusters_ = len(set(labels)) - (1 if -1 in labels else 0)\n",
    "n_noise_ = list(labels).count(-1)\n",
    "print(\"Estimated number of clusters: %d\" % n_clusters_)\n",
    "print(\"Estimated number of noise points: %d\" % n_noise_)\n",
    "print(\"Homogeneity: %0.3f\" % metrics.homogeneity_score(cust_true_label, labels))\n",
    "print(\"Completeness: %0.3f\" % metrics.completeness_score(cust_true_label, labels))\n",
    "print(\"V-measure: %0.3f\" % metrics.v_measure_score(cust_true_label, labels))\n",
    "print(\"Adjusted Rand Index: %0.3f\" % metrics.adjusted_rand_score(cust_true_label, labels))\n",
    "print(\n",
    "    \"Adjusted Mutual Information: %0.3f\"\n",
    "    % metrics.adjusted_mutual_info_score(cust_true_label, labels)\n",
    ")\n",
    "\n",
    "print(\"Silhouette Score: %0.3f\" % metrics.silhouette_score(scaled_features_df, labels))\n",
    "\n",
    "#silhouette (cohesion compared to separation, high value indicates well matched to its own cluster and poorly to \n",
    "#neighboring clusters)\n",
    "#Davies-Bouldin Index (cluster overlap by measuring the ratio of the sum of within-cluster scatters to between-cluster \n",
    "#separations, low value indicates indicates that the clusters are compact and far)\n",
    "print('Davies Bouldin score is: %0.3f' % metrics.davies_bouldin_score(scaled_features_df, labels))\n",
    "\n",
    "#calinski harabasz score (Well-defined clusters have a large between-cluster variance and a small within-cluster variance,\n",
    "#larger index value indicates optimal number of clusters)\n",
    "\n",
    "print('Calinski Harabasz score is:  %0.3f' % metrics.calinski_harabasz_score(scaled_features_df, labels))\n",
    "\n",
    "# Classification accuracy as well\n",
    "#classification_accuracy(labels, cust_true_label)"
   ]
  },
  {
   "cell_type": "markdown",
   "metadata": {
    "id": "nMd3bRLWmNap"
   },
   "source": [
    "Clustering of Scaled DF with PCA"
   ]
  },
  {
   "cell_type": "code",
   "execution_count": 52,
   "metadata": {
    "id": "DnRrVeommZOQ"
   },
   "outputs": [],
   "source": [
    "import numpy as np\n",
    "from sklearn.neighbors import NearestNeighbors\n",
    "# n_neighbors = 5 as kneighbors function returns distance of point to itself (i.e. first column will be zeros) \n",
    "nbrs = NearestNeighbors(n_neighbors=5).fit(pca_data)\n",
    "# Find the k-neighbors of a point\n",
    "neigh_dist, neigh_ind = nbrs.kneighbors(pca_data)\n",
    "# sort the neighbor distances (lengths to points) in ascending order\n",
    "# axis = 0 represents sort along first axis i.e. sort along row\n",
    "sort_neigh_dist = np.sort(neigh_dist, axis=0)"
   ]
  },
  {
   "cell_type": "code",
   "execution_count": 53,
   "metadata": {
    "colab": {
     "base_uri": "https://localhost:8080/",
     "height": 421
    },
    "id": "hqnwtW7BmmXn",
    "outputId": "4d17b896-529a-4a6c-8b89-ceacacf74a2d"
   },
   "outputs": [
    {
     "name": "stdout",
     "output_type": "stream",
     "text": [
      "0.5195276774782354\n"
     ]
    },
    {
     "data": {
      "image/png": "[encoded data removed]",
      "text/plain": [
       "<Figure size 432x432 with 1 Axes>"
      ]
     },
     "metadata": {
      "needs_background": "light"
     },
     "output_type": "display_data"
    }
   ],
   "source": [
    "import matplotlib.pyplot as plt\n",
    "from kneed import KneeLocator\n",
    "k_dist = sort_neigh_dist[:, 4]\n",
    "i = np.arange(len(k_dist))\n",
    "knee = KneeLocator(i, k_dist, S=1, curve='convex', direction='increasing', interp_method='polynomial')\n",
    "knee.plot_knee()\n",
    "plt.xlabel(\"Points\")\n",
    "plt.ylabel(\"Distance\")\n",
    "print(k_dist[knee.knee])\n"
   ]
  },
  {
   "cell_type": "code",
   "execution_count": 54,
   "metadata": {
    "colab": {
     "base_uri": "https://localhost:8080/",
     "height": 281
    },
    "id": "1Y4f-LJF3bzP",
    "outputId": "f2688b11-419a-48ee-a45f-e5d73d71019e"
   },
   "outputs": [
    {
     "data": {
      "image/png": "[encoded data removed]",
      "text/plain": [
       "<Figure size 432x288 with 1 Axes>"
      ]
     },
     "metadata": {
      "needs_background": "light"
     },
     "output_type": "display_data"
    }
   ],
   "source": [
    "\n",
    "plt.plot(k_dist)\n",
    "plt.axhline(y=0.36, linewidth=1, linestyle='dashed', color='k')\n",
    "plt.ylabel(\"k-NN distance\")\n",
    "plt.xlabel(\"Sorted observations (4th NN)\")\n",
    "plt.show()"
   ]
  },
  {
   "cell_type": "code",
   "execution_count": 55,
   "metadata": {
    "id": "ogoX3cgoA0nF"
   },
   "outputs": [],
   "source": [
    "# 0.519 seems to be unable to classify the data as seen below"
   ]
  },
  {
   "cell_type": "code",
   "execution_count": 56,
   "metadata": {
    "colab": {
     "base_uri": "https://localhost:8080/"
    },
    "id": "oJ61_j7RDf0T",
    "outputId": "12671a1d-218d-4482-adff-ed096f8d8ad6"
   },
   "outputs": [
    {
     "name": "stdout",
     "output_type": "stream",
     "text": [
      "[ 0  0  0  0  0  0  0  0 -1  0 -1  0  0  0  0  0  0  0  0  0  0  0  0  0\n",
      "  0  0  0  0  0  0  0  0  0  0  0  0  0  0  0  0  0  0  0  0  0  0  0  0\n",
      "  0  0  0  0  0  0  0  0  0  0  0  0  0  0  0  0  0  0  0  0  0  0  0  0\n",
      "  0  0  0  0  0  0  0  0  0  0  0  0  0  0  0  0  0  0  0  0  0  0  0  0\n",
      "  0  0  0  0  0  0  0  0  0  0  0  0  0  0  0  0  0  0  0  0  0  0  0  0\n",
      "  0  0  0  0  0  0  0  0 -1  0  0  0  0  0  0  0  0  0  0  0 -1  0  0  0\n",
      "  0  0  0  0  0  0  0  0  0  0  0  0  0  0  0  0  0  0  0  0  0  0  0  0\n",
      "  0  0  0  0  0  0  0  0  0  0  0  0  0  0  0  0  0  0  0  0  0  0 -1  0\n",
      " -1  0 -1  0 -1 -1 -1 -1]\n",
      "Estimated number of clusters: 1\n",
      "Estimated number of noise points: 11\n",
      "Homogeneity: 0.034\n",
      "Completeness: 0.234\n",
      "V-measure: 0.059\n",
      "Adjusted Rand Index: 0.029\n",
      "Adjusted Mutual Information: 0.046\n",
      "Silhouette Score: 0.329\n",
      "Davies Bouldin score is: 1.756\n",
      "Calinski Harabasz score is:  14.793\n"
     ]
    }
   ],
   "source": [
    "clusters = DBSCAN(eps=0.519, min_samples=5).fit(pca_data)\n",
    "# get cluster labels\n",
    "clusters.labels_\n",
    "\n",
    "core_samples_mask = np.zeros_like(clusters.labels_, dtype=bool)\n",
    "core_samples_mask[clusters.core_sample_indices_] = True\n",
    "labels = clusters.labels_\n",
    "print(labels)\n",
    "# Number of clusters in labels, ignoring noise if present.\n",
    "n_clusters_ = len(set(labels)) - (1 if -1 in labels else 0)\n",
    "n_noise_ = list(labels).count(-1)\n",
    "print(\"Estimated number of clusters: %d\" % n_clusters_)\n",
    "print(\"Estimated number of noise points: %d\" % n_noise_)\n",
    "print(\"Homogeneity: %0.3f\" % metrics.homogeneity_score(cust_true_label, labels))\n",
    "print(\"Completeness: %0.3f\" % metrics.completeness_score(cust_true_label, labels))\n",
    "print(\"V-measure: %0.3f\" % metrics.v_measure_score(cust_true_label, labels))\n",
    "print(\"Adjusted Rand Index: %0.3f\" % metrics.adjusted_rand_score(cust_true_label, labels))\n",
    "print(\n",
    "    \"Adjusted Mutual Information: %0.3f\"\n",
    "    % metrics.adjusted_mutual_info_score(cust_true_label, labels)\n",
    ")\n",
    "\n",
    "print(\"Silhouette Score: %0.3f\" % metrics.silhouette_score(pca_data, labels))\n",
    "\n",
    "#silhouette (cohesion compared to separation, high value indicates well matched to its own cluster and poorly to \n",
    "#neighboring clusters)\n",
    "#Davies-Bouldin Index (cluster overlap by measuring the ratio of the sum of within-cluster scatters to between-cluster \n",
    "#separations, low value indicates indicates that the clusters are compact and far)\n",
    "print('Davies Bouldin score is: %0.3f' % metrics.davies_bouldin_score(pca_data, labels))\n",
    "\n",
    "#calinski harabasz score (Well-defined clusters have a large between-cluster variance and a small within-cluster variance,\n",
    "#larger index value indicates optimal number of clusters)\n",
    "\n",
    "print('Calinski Harabasz score is:  %0.3f' % metrics.calinski_harabasz_score(pca_data, labels))\n"
   ]
  },
  {
   "cell_type": "code",
   "execution_count": 57,
   "metadata": {
    "colab": {
     "base_uri": "https://localhost:8080/",
     "height": 265
    },
    "id": "xw-WeoJ3mxes",
    "outputId": "edecde69-84ed-4cab-ad78-27daa709fa55"
   },
   "outputs": [
    {
     "data": {
      "image/png": "[encoded data removed]",
      "text/plain": [
       "<Figure size 432x288 with 1 Axes>"
      ]
     },
     "metadata": {
      "needs_background": "light"
     },
     "output_type": "display_data"
    }
   ],
   "source": [
    "pca_data_df = pd.DataFrame(pca_data)\n",
    "pca_data_df.columns = ['P1', 'P2']\n",
    "plt.figure()\n",
    "plt.scatter(pca_data_df['P1'], pca_data_df['P2'],\n",
    "            c = labels, cmap ='rainbow')\n",
    "plt.show()"
   ]
  },
  {
   "cell_type": "code",
   "execution_count": 58,
   "metadata": {
    "id": "S6q2TuLQA3m5"
   },
   "outputs": [],
   "source": [
    "# We do some manual tweaking "
   ]
  },
  {
   "cell_type": "code",
   "execution_count": 59,
   "metadata": {
    "colab": {
     "base_uri": "https://localhost:8080/"
    },
    "id": "0RPhXVcyA3ow",
    "outputId": "31bd6368-4937-4d6c-ccbc-6c32af8e0c7d"
   },
   "outputs": [
    {
     "name": "stdout",
     "output_type": "stream",
     "text": [
      "[-1  0 -1  0 -1  0 -1  0 -1  0 -1  0  1  0 -1  0 -1  0 -1  0 -1  0  1  0\n",
      "  1  0 -1 -1  2  0 -1  0  1 -1  1  0  2  0  2  0  2  0  2  3  2  3  2  3\n",
      "  3  3  2  3  3  2  2  2  2  2  3  2  2  3  2  2  2  3  2  2  3  3  2  2\n",
      "  2  2  2  3  2  2  3  2  2  2  2  2  3  2  2  3  3  2  2  3  2  2  2  3\n",
      "  2  3  2  3  3  2  2  3  2  3  2  2  2  2  2  3  2  3  3  3  2  2  2  2\n",
      "  3  2  2  3  2  3  2  3 -1  3  2  3  2  3  2  3  2  3  2  3 -1  3  2  3\n",
      "  2  3  2  3  2  3  2  3  2  3  2  3  2  3  2  3  2  3  2  3  2  3  2  3\n",
      "  2  3  2  3  2  3 -1  3 -1  3 -1  3 -1  3 -1  3 -1 -1 -1 -1 -1  3 -1 -1\n",
      " -1 -1 -1 -1 -1 -1 -1 -1]\n",
      "Estimated number of clusters: 4\n",
      "Estimated number of noise points: 36\n",
      "Homogeneity: 0.489\n",
      "Completeness: 0.535\n",
      "V-measure: 0.511\n",
      "Adjusted Rand Index: 0.344\n",
      "Adjusted Mutual Information: 0.495\n",
      "Silhouette Score: 0.256\n",
      "Davies Bouldin score is: 2.683\n",
      "Calinski Harabasz score is:  49.576\n"
     ]
    }
   ],
   "source": [
    "# 0.36\n",
    "clusters = DBSCAN(eps=0.36, min_samples=5).fit(pca_data)\n",
    "# get cluster labels\n",
    "clusters.labels_\n",
    "\n",
    "core_samples_mask = np.zeros_like(clusters.labels_, dtype=bool)\n",
    "core_samples_mask[clusters.core_sample_indices_] = True\n",
    "labels = clusters.labels_\n",
    "print(labels)\n",
    "# Number of clusters in labels, ignoring noise if present.\n",
    "n_clusters_ = len(set(labels)) - (1 if -1 in labels else 0)\n",
    "n_noise_ = list(labels).count(-1)\n",
    "print(\"Estimated number of clusters: %d\" % n_clusters_)\n",
    "print(\"Estimated number of noise points: %d\" % n_noise_)\n",
    "print(\"Homogeneity: %0.3f\" % metrics.homogeneity_score(cust_true_label, labels))\n",
    "print(\"Completeness: %0.3f\" % metrics.completeness_score(cust_true_label, labels))\n",
    "print(\"V-measure: %0.3f\" % metrics.v_measure_score(cust_true_label, labels))\n",
    "print(\"Adjusted Rand Index: %0.3f\" % metrics.adjusted_rand_score(cust_true_label, labels))\n",
    "print(\n",
    "    \"Adjusted Mutual Information: %0.3f\"\n",
    "    % metrics.adjusted_mutual_info_score(cust_true_label, labels)\n",
    ")\n",
    "\n",
    "print(\"Silhouette Score: %0.3f\" % metrics.silhouette_score(pca_data, labels))\n",
    "\n",
    "#silhouette (cohesion compared to separation, high value indicates well matched to its own cluster and poorly to \n",
    "#neighboring clusters)\n",
    "#Davies-Bouldin Index (cluster overlap by measuring the ratio of the sum of within-cluster scatters to between-cluster \n",
    "#separations, low value indicates indicates that the clusters are compact and far)\n",
    "print('Davies Bouldin score is: %0.3f' % metrics.davies_bouldin_score(pca_data, labels))\n",
    "\n",
    "#calinski harabasz score (Well-defined clusters have a large between-cluster variance and a small within-cluster variance,\n",
    "#larger index value indicates optimal number of clusters)\n",
    "\n",
    "print('Calinski Harabasz score is:  %0.3f' % metrics.calinski_harabasz_score(pca_data, labels))\n"
   ]
  },
  {
   "cell_type": "code",
   "execution_count": 60,
   "metadata": {
    "colab": {
     "base_uri": "https://localhost:8080/",
     "height": 265
    },
    "id": "JybTvI1JBEIV",
    "outputId": "f43ef901-9e3c-4149-c9f1-cba68d347bca"
   },
   "outputs": [
    {
     "data": {
      "image/png": "[encoded data removed]",
      "text/plain": [
       "<Figure size 432x288 with 1 Axes>"
      ]
     },
     "metadata": {
      "needs_background": "light"
     },
     "output_type": "display_data"
    }
   ],
   "source": [
    "pca_data_df = pd.DataFrame(pca_data)\n",
    "pca_data_df.columns = ['P1', 'P2']\n",
    "plt.figure()\n",
    "plt.scatter(pca_data_df['P1'], pca_data_df['P2'],\n",
    "            c = labels, cmap ='rainbow')\n",
    "plt.show()"
   ]
  },
  {
   "cell_type": "markdown",
   "metadata": {
    "id": "qPeuUVHnqXCb"
   },
   "source": [
    "# SONAR dataset"
   ]
  },
  {
   "cell_type": "code",
   "execution_count": 62,
   "metadata": {
    "colab": {
     "base_uri": "https://localhost:8080/",
     "height": 299
    },
    "id": "EGIMU9NPqZOK",
    "outputId": "5c713cc7-ba4a-4d4c-b2e4-cd1aa00719cb"
   },
   "outputs": [
    {
     "data": {
      "text/html": [
       "<div>\n",
       "<style scoped>\n",
       "    .dataframe tbody tr th:only-of-type {\n",
       "        vertical-align: middle;\n",
       "    }\n",
       "\n",
       "    .dataframe tbody tr th {\n",
       "        vertical-align: top;\n",
       "    }\n",
       "\n",
       "    .dataframe thead th {\n",
       "        text-align: right;\n",
       "    }\n",
       "</style>\n",
       "<table border=\"1\" class=\"dataframe\">\n",
       "  <thead>\n",
       "    <tr style=\"text-align: right;\">\n",
       "      <th></th>\n",
       "      <th>1</th>\n",
       "      <th>2</th>\n",
       "      <th>3</th>\n",
       "      <th>4</th>\n",
       "      <th>5</th>\n",
       "      <th>6</th>\n",
       "      <th>7</th>\n",
       "      <th>8</th>\n",
       "      <th>9</th>\n",
       "      <th>10</th>\n",
       "      <th>...</th>\n",
       "      <th>52</th>\n",
       "      <th>53</th>\n",
       "      <th>54</th>\n",
       "      <th>55</th>\n",
       "      <th>56</th>\n",
       "      <th>57</th>\n",
       "      <th>58</th>\n",
       "      <th>59</th>\n",
       "      <th>60</th>\n",
       "      <th>61</th>\n",
       "    </tr>\n",
       "  </thead>\n",
       "  <tbody>\n",
       "    <tr>\n",
       "      <th>0</th>\n",
       "      <td>0.0200</td>\n",
       "      <td>0.0371</td>\n",
       "      <td>0.0428</td>\n",
       "      <td>0.0207</td>\n",
       "      <td>0.0954</td>\n",
       "      <td>0.0986</td>\n",
       "      <td>0.1539</td>\n",
       "      <td>0.1601</td>\n",
       "      <td>0.3109</td>\n",
       "      <td>0.2111</td>\n",
       "      <td>...</td>\n",
       "      <td>0.0027</td>\n",
       "      <td>0.0065</td>\n",
       "      <td>0.0159</td>\n",
       "      <td>0.0072</td>\n",
       "      <td>0.0167</td>\n",
       "      <td>0.0180</td>\n",
       "      <td>0.0084</td>\n",
       "      <td>0.0090</td>\n",
       "      <td>0.0032</td>\n",
       "      <td>R</td>\n",
       "    </tr>\n",
       "    <tr>\n",
       "      <th>1</th>\n",
       "      <td>0.0453</td>\n",
       "      <td>0.0523</td>\n",
       "      <td>0.0843</td>\n",
       "      <td>0.0689</td>\n",
       "      <td>0.1183</td>\n",
       "      <td>0.2583</td>\n",
       "      <td>0.2156</td>\n",
       "      <td>0.3481</td>\n",
       "      <td>0.3337</td>\n",
       "      <td>0.2872</td>\n",
       "      <td>...</td>\n",
       "      <td>0.0084</td>\n",
       "      <td>0.0089</td>\n",
       "      <td>0.0048</td>\n",
       "      <td>0.0094</td>\n",
       "      <td>0.0191</td>\n",
       "      <td>0.0140</td>\n",
       "      <td>0.0049</td>\n",
       "      <td>0.0052</td>\n",
       "      <td>0.0044</td>\n",
       "      <td>R</td>\n",
       "    </tr>\n",
       "    <tr>\n",
       "      <th>2</th>\n",
       "      <td>0.0262</td>\n",
       "      <td>0.0582</td>\n",
       "      <td>0.1099</td>\n",
       "      <td>0.1083</td>\n",
       "      <td>0.0974</td>\n",
       "      <td>0.2280</td>\n",
       "      <td>0.2431</td>\n",
       "      <td>0.3771</td>\n",
       "      <td>0.5598</td>\n",
       "      <td>0.6194</td>\n",
       "      <td>...</td>\n",
       "      <td>0.0232</td>\n",
       "      <td>0.0166</td>\n",
       "      <td>0.0095</td>\n",
       "      <td>0.0180</td>\n",
       "      <td>0.0244</td>\n",
       "      <td>0.0316</td>\n",
       "      <td>0.0164</td>\n",
       "      <td>0.0095</td>\n",
       "      <td>0.0078</td>\n",
       "      <td>R</td>\n",
       "    </tr>\n",
       "    <tr>\n",
       "      <th>3</th>\n",
       "      <td>0.0100</td>\n",
       "      <td>0.0171</td>\n",
       "      <td>0.0623</td>\n",
       "      <td>0.0205</td>\n",
       "      <td>0.0205</td>\n",
       "      <td>0.0368</td>\n",
       "      <td>0.1098</td>\n",
       "      <td>0.1276</td>\n",
       "      <td>0.0598</td>\n",
       "      <td>0.1264</td>\n",
       "      <td>...</td>\n",
       "      <td>0.0121</td>\n",
       "      <td>0.0036</td>\n",
       "      <td>0.0150</td>\n",
       "      <td>0.0085</td>\n",
       "      <td>0.0073</td>\n",
       "      <td>0.0050</td>\n",
       "      <td>0.0044</td>\n",
       "      <td>0.0040</td>\n",
       "      <td>0.0117</td>\n",
       "      <td>R</td>\n",
       "    </tr>\n",
       "    <tr>\n",
       "      <th>4</th>\n",
       "      <td>0.0762</td>\n",
       "      <td>0.0666</td>\n",
       "      <td>0.0481</td>\n",
       "      <td>0.0394</td>\n",
       "      <td>0.0590</td>\n",
       "      <td>0.0649</td>\n",
       "      <td>0.1209</td>\n",
       "      <td>0.2467</td>\n",
       "      <td>0.3564</td>\n",
       "      <td>0.4459</td>\n",
       "      <td>...</td>\n",
       "      <td>0.0031</td>\n",
       "      <td>0.0054</td>\n",
       "      <td>0.0105</td>\n",
       "      <td>0.0110</td>\n",
       "      <td>0.0015</td>\n",
       "      <td>0.0072</td>\n",
       "      <td>0.0048</td>\n",
       "      <td>0.0107</td>\n",
       "      <td>0.0094</td>\n",
       "      <td>R</td>\n",
       "    </tr>\n",
       "  </tbody>\n",
       "</table>\n",
       "<p>5 rows × 61 columns</p>\n",
       "</div>"
      ],
      "text/plain": [
       "      1      2      3      4      5      6      7      8      9      10  ...  \\\n",
       "0 0.0200 0.0371 0.0428 0.0207 0.0954 0.0986 0.1539 0.1601 0.3109 0.2111  ...   \n",
       "1 0.0453 0.0523 0.0843 0.0689 0.1183 0.2583 0.2156 0.3481 0.3337 0.2872  ...   \n",
       "2 0.0262 0.0582 0.1099 0.1083 0.0974 0.2280 0.2431 0.3771 0.5598 0.6194  ...   \n",
       "3 0.0100 0.0171 0.0623 0.0205 0.0205 0.0368 0.1098 0.1276 0.0598 0.1264  ...   \n",
       "4 0.0762 0.0666 0.0481 0.0394 0.0590 0.0649 0.1209 0.2467 0.3564 0.4459  ...   \n",
       "\n",
       "      52     53     54     55     56     57     58     59     60  61  \n",
       "0 0.0027 0.0065 0.0159 0.0072 0.0167 0.0180 0.0084 0.0090 0.0032   R  \n",
       "1 0.0084 0.0089 0.0048 0.0094 0.0191 0.0140 0.0049 0.0052 0.0044   R  \n",
       "2 0.0232 0.0166 0.0095 0.0180 0.0244 0.0316 0.0164 0.0095 0.0078   R  \n",
       "3 0.0121 0.0036 0.0150 0.0085 0.0073 0.0050 0.0044 0.0040 0.0117   R  \n",
       "4 0.0031 0.0054 0.0105 0.0110 0.0015 0.0072 0.0048 0.0107 0.0094   R  \n",
       "\n",
       "[5 rows x 61 columns]"
      ]
     },
     "execution_count": 62,
     "metadata": {},
     "output_type": "execute_result"
    }
   ],
   "source": [
    "column_names = list(range(1,62))\n",
    "pd.options.display.float_format = '{:,.4f}'.format\n",
    "\n",
    "df = pd.read_csv(\"sonar.all-data\", names = column_names, on_bad_lines='skip') \n",
    "df.head()"
   ]
  },
  {
   "cell_type": "code",
   "execution_count": 63,
   "metadata": {
    "id": "0F5N3jo5qZR5"
   },
   "outputs": [],
   "source": [
    "sonar_label = df[61].values.tolist()\n",
    "sonar_df = df.drop(columns = df.columns[-1])\n",
    "\n",
    "# Preprocess\n",
    "scaled_features_df = StandardScaler().fit_transform(sonar_df.values)\n",
    "\n",
    "pca = PCA(n_components = 2)\n",
    "pca_data = pca.fit_transform(scaled_features_df)\n",
    "\n",
    "# Processing of the labels\n",
    "# M = sonar_label.values.tolist()\n",
    "# sonar_label = M"
   ]
  },
  {
   "cell_type": "markdown",
   "metadata": {
    "id": "ubNAa-wqrrF1"
   },
   "source": [
    "Begin Clustering on Scaled DF"
   ]
  },
  {
   "cell_type": "code",
   "execution_count": 64,
   "metadata": {
    "id": "Wrg1En4SrPhi"
   },
   "outputs": [],
   "source": [
    "import numpy as np\n",
    "from sklearn.neighbors import NearestNeighbors\n",
    "# n_neighbors = 5 as kneighbors function returns distance of point to itself (i.e. first column will be zeros) \n",
    "nbrs = NearestNeighbors(n_neighbors=4).fit(scaled_features_df)\n",
    "# Find the k-neighbors of a point\n",
    "neigh_dist, neigh_ind = nbrs.kneighbors(scaled_features_df)\n",
    "# sort the neighbor distances (lengths to points) in ascending order\n",
    "# axis = 0 represents sort along first axis i.e. sort along row\n",
    "sort_neigh_dist = np.sort(neigh_dist, axis=0)"
   ]
  },
  {
   "cell_type": "code",
   "execution_count": 65,
   "metadata": {
    "colab": {
     "base_uri": "https://localhost:8080/",
     "height": 421
    },
    "id": "Ex8-X0YcBqbZ",
    "outputId": "810f416b-0ea1-4d87-f481-bd0ba42fa074"
   },
   "outputs": [
    {
     "name": "stdout",
     "output_type": "stream",
     "text": [
      "8.482121790248659\n"
     ]
    },
    {
     "data": {
      "image/png": "[encoded data removed]",
      "text/plain": [
       "<Figure size 432x432 with 1 Axes>"
      ]
     },
     "metadata": {
      "needs_background": "light"
     },
     "output_type": "display_data"
    }
   ],
   "source": [
    "import matplotlib.pyplot as plt\n",
    "from kneed import KneeLocator\n",
    "k_dist = sort_neigh_dist[:, 3]\n",
    "i = np.arange(len(k_dist))\n",
    "knee = KneeLocator(i, k_dist, S=1, curve='convex', direction='increasing', interp_method='polynomial')\n",
    "knee.plot_knee()\n",
    "plt.xlabel(\"Points\")\n",
    "plt.ylabel(\"Distance\")\n",
    "print(k_dist[knee.knee])\n"
   ]
  },
  {
   "cell_type": "code",
   "execution_count": 66,
   "metadata": {
    "colab": {
     "base_uri": "https://localhost:8080/",
     "height": 279
    },
    "id": "aGTEd21crPom",
    "outputId": "5743ce03-50f9-4a36-c42e-520193fa5637"
   },
   "outputs": [
    {
     "data": {
      "image/png": "[encoded data removed]",
      "text/plain": [
       "<Figure size 432x288 with 1 Axes>"
      ]
     },
     "metadata": {
      "needs_background": "light"
     },
     "output_type": "display_data"
    }
   ],
   "source": [
    "plt.plot(k_dist)\n",
    "plt.axhline(y=8.48, linewidth=1, linestyle='dashed', color='k')\n",
    "plt.ylabel(\"k-NN distance\")\n",
    "plt.xlabel(\"Sorted observations (4th NN)\")\n",
    "plt.show()"
   ]
  },
  {
   "cell_type": "code",
   "execution_count": 67,
   "metadata": {
    "colab": {
     "base_uri": "https://localhost:8080/"
    },
    "id": "Rpdw9kn7rx4h",
    "outputId": "b07e97ac-ea67-480b-d2a4-9c762b8c3e38"
   },
   "outputs": [
    {
     "name": "stdout",
     "output_type": "stream",
     "text": [
      "[ 0  0 -1  0  0  0  0  0  0  0  0  0  0  0  0  0  0  0  0  0 -1  0 -1  0\n",
      "  0  0  0  0  0  0  0  0  0  0  0  0  0  0  0  0  0  0  0  0 -1  0  0  0\n",
      "  0  0  0  0  0  0  0  0  0  0  0  0  0  0  0  0  0  0  0  0  0  0  0  0\n",
      "  0  0  0  0  0  0  0  0  0  0  0  0  0  0  0  0  0  0  0 -1  0  0  0  0\n",
      "  0 -1 -1  0  0 -1  0  0  0  0  0  0  0  0  0 -1  0  0  0  0  0  0  0  0\n",
      "  0  0  0  0  0  0  0  0  0  0  0  1  1 -1  1  1  1  0 -1  0 -1 -1 -1 -1\n",
      " -1 -1 -1 -1  0  0  0  0  0  0  0  0  0  0  0  0  0  0  0  0  0  0  0  0\n",
      "  0  0  0  0  0  0  0  0  0  0  0  0  0  0  0  0  0  0  0  0  0  0  0  0\n",
      "  0  0  0  0  0  0  0  0  0  0  0  0  0  0  0  0]\n",
      "Estimated number of clusters: 2\n",
      "Estimated number of noise points: 19\n",
      "Homogeneity: 0.036\n",
      "Completeness: 0.060\n",
      "V-measure: 0.045\n",
      "Adjusted Rand Index: -0.004\n",
      "Adjusted Mutual Information: 0.036\n",
      "Silhouette Score: 0.277\n",
      "Davies Bouldin score is: 2.005\n",
      "Calinski Harabasz score is:  15.248\n",
      "Classification accuracy:  0.4423076923076923\n"
     ]
    }
   ],
   "source": [
    "clusters = DBSCAN(eps=8.48, min_samples=4).fit(scaled_features_df)\n",
    "train_data = pd.DataFrame(scaled_features_df)\n",
    "# get cluster labels\n",
    "clusters.labels_\n",
    "\n",
    "core_samples_mask = np.zeros_like(clusters.labels_, dtype=bool)\n",
    "core_samples_mask[clusters.core_sample_indices_] = True\n",
    "labels = clusters.labels_\n",
    "print(labels)\n",
    "# Number of clusters in labels, ignoring noise if present.\n",
    "n_clusters_ = len(set(labels)) - (1 if -1 in labels else 0)\n",
    "n_noise_ = list(labels).count(-1)\n",
    "print(\"Estimated number of clusters: %d\" % n_clusters_)\n",
    "print(\"Estimated number of noise points: %d\" % n_noise_)\n",
    "print(\"Homogeneity: %0.3f\" % metrics.homogeneity_score(sonar_label, labels))\n",
    "print(\"Completeness: %0.3f\" % metrics.completeness_score(sonar_label, labels))\n",
    "print(\"V-measure: %0.3f\" % metrics.v_measure_score(sonar_label, labels))\n",
    "print(\"Adjusted Rand Index: %0.3f\" % metrics.adjusted_rand_score(sonar_label, labels))\n",
    "print(\n",
    "    \"Adjusted Mutual Information: %0.3f\"\n",
    "    % metrics.adjusted_mutual_info_score(sonar_label, labels)\n",
    ")\n",
    "\n",
    "print(\"Silhouette Score: %0.3f\" % metrics.silhouette_score(scaled_features_df, labels))\n",
    "\n",
    "#silhouette (cohesion compared to separation, high value indicates well matched to its own cluster and poorly to \n",
    "#neighboring clusters)\n",
    "#Davies-Bouldin Index (cluster overlap by measuring the ratio of the sum of within-cluster scatters to between-cluster \n",
    "#separations, low value indicates indicates that the clusters are compact and far)\n",
    "print('Davies Bouldin score is: %0.3f' % metrics.davies_bouldin_score(scaled_features_df, labels))\n",
    "\n",
    "#calinski harabasz score (Well-defined clusters have a large between-cluster variance and a small within-cluster variance,\n",
    "#larger index value indicates optimal number of clusters)\n",
    "\n",
    "print('Calinski Harabasz score is:  %0.3f' % metrics.calinski_harabasz_score(scaled_features_df, labels))\n",
    "\n",
    "# Classification accuracy as well\n",
    "test_data = pd.Series(sonar_label)\n",
    "classification_accuracy(train_data, labels, test_data)"
   ]
  },
  {
   "cell_type": "code",
   "execution_count": 68,
   "metadata": {
    "id": "Ce3G5eA8ryBy"
   },
   "outputs": [],
   "source": [
    "# With PCA"
   ]
  },
  {
   "cell_type": "code",
   "execution_count": 69,
   "metadata": {
    "id": "Yl97Zzf2usAX"
   },
   "outputs": [],
   "source": [
    "import numpy as np\n",
    "from sklearn.neighbors import NearestNeighbors\n",
    "# n_neighbors = 5 as kneighbors function returns distance of point to itself (i.e. first column will be zeros) \n",
    "nbrs = NearestNeighbors(n_neighbors=4).fit(pca_data)\n",
    "# Find the k-neighbors of a point\n",
    "neigh_dist, neigh_ind = nbrs.kneighbors(pca_data)\n",
    "# sort the neighbor distances (lengths to points) in ascending order\n",
    "# axis = 0 represents sort along first axis i.e. sort along row\n",
    "sort_neigh_dist = np.sort(neigh_dist, axis=0)"
   ]
  },
  {
   "cell_type": "code",
   "execution_count": 70,
   "metadata": {
    "colab": {
     "base_uri": "https://localhost:8080/",
     "height": 421
    },
    "id": "4f_J5GD9CItL",
    "outputId": "d3d31089-26b3-4379-a89a-699f71136b2b"
   },
   "outputs": [
    {
     "name": "stdout",
     "output_type": "stream",
     "text": [
      "1.4131866453223612\n"
     ]
    },
    {
     "data": {
      "image/png": "[encoded data removed]",
      "text/plain": [
       "<Figure size 432x432 with 1 Axes>"
      ]
     },
     "metadata": {
      "needs_background": "light"
     },
     "output_type": "display_data"
    }
   ],
   "source": [
    "import matplotlib.pyplot as plt\n",
    "from kneed import KneeLocator\n",
    "k_dist = sort_neigh_dist[:, 3]\n",
    "i = np.arange(len(k_dist))\n",
    "knee = KneeLocator(i, k_dist, S=1, curve='convex', direction='increasing', interp_method='polynomial')\n",
    "knee.plot_knee()\n",
    "plt.xlabel(\"Points\")\n",
    "plt.ylabel(\"Distance\")\n",
    "print(k_dist[knee.knee])\n"
   ]
  },
  {
   "cell_type": "code",
   "execution_count": 71,
   "metadata": {
    "colab": {
     "base_uri": "https://localhost:8080/",
     "height": 279
    },
    "id": "YfruEa4gsrbp",
    "outputId": "bdfd4698-a121-4ded-e812-e4cf66d29583"
   },
   "outputs": [
    {
     "data": {
      "image/png": "[encoded data removed]",
      "text/plain": [
       "<Figure size 432x288 with 1 Axes>"
      ]
     },
     "metadata": {
      "needs_background": "light"
     },
     "output_type": "display_data"
    }
   ],
   "source": [
    "plt.plot(k_dist)\n",
    "plt.axhline(y=1.41, linewidth=1, linestyle='dashed', color='k')\n",
    "plt.ylabel(\"k-NN distance\")\n",
    "plt.xlabel(\"Sorted observations (4th NN)\")\n",
    "plt.show()"
   ]
  },
  {
   "cell_type": "code",
   "execution_count": 72,
   "metadata": {
    "colab": {
     "base_uri": "https://localhost:8080/"
    },
    "id": "HcHQFfoGCXIt",
    "outputId": "0f229673-8623-4e73-fce8-2c7ac7e0399f"
   },
   "outputs": [
    {
     "name": "stdout",
     "output_type": "stream",
     "text": [
      "[ 0  1 -1  0  0  0  0  0  0  0 -1  0  0  0  0  0  0  0  0  1  0  0 -1  0\n",
      "  0 -1  0  0  0  0  0  0  0  0  0  0  0  0  0  0  0  0  0  0 -1  0  0  0\n",
      "  0  0  0  0  0  0  0  0  0  0  0  0  0  0  0  0  0  0  0  0  0  0  0  0\n",
      "  0  0  0  0  0  0  0  0  0  0  0  0  0  1  0  0  0  0  0  0  0  0  0  0\n",
      "  0 -1 -1  0  1  1  1  0  1  0  0  0  0  0  0  1  0  0  0  0  0  0  0  0\n",
      "  0  0  0  0  0  0  1  1  1  1  1  2 -1  2 -1  2  2  0 -1  0 -1 -1 -1  0\n",
      "  0 -1 -1  2  0  0  0  0  0  0  0  0  0  0  0  0  0 -1  0  0  0  0  0  0\n",
      "  0  0  0  0  0  0  0  0  0  0  0  0  0  0  0  0  0  0  0  0  0  0  0  0\n",
      "  0  0  0  0  0  0  0  0  0  0  0  0  0  0  0  0]\n",
      "Estimated number of clusters: 3\n",
      "Estimated number of noise points: 16\n",
      "Homogeneity: 0.043\n",
      "Completeness: 0.049\n",
      "V-measure: 0.046\n",
      "Adjusted Rand Index: -0.003\n",
      "Adjusted Mutual Information: 0.034\n",
      "Silhouette Score: 0.189\n",
      "Davies Bouldin score is: 2.217\n",
      "Calinski Harabasz score is:  13.964\n",
      "Classification accuracy:  0.40865384615384615\n"
     ]
    }
   ],
   "source": [
    "clusters = DBSCAN(eps=1.41, min_samples=4).fit(pca_data)\n",
    "train_data = pd.DataFrame(pca_data)\n",
    "# get cluster labels\n",
    "clusters.labels_\n",
    "\n",
    "core_samples_mask = np.zeros_like(clusters.labels_, dtype=bool)\n",
    "core_samples_mask[clusters.core_sample_indices_] = True\n",
    "labels = clusters.labels_\n",
    "print(labels)\n",
    "# Number of clusters in labels, ignoring noise if present.\n",
    "n_clusters_ = len(set(labels)) - (1 if -1 in labels else 0)\n",
    "n_noise_ = list(labels).count(-1)\n",
    "print(\"Estimated number of clusters: %d\" % n_clusters_)\n",
    "print(\"Estimated number of noise points: %d\" % n_noise_)\n",
    "print(\"Homogeneity: %0.3f\" % metrics.homogeneity_score(sonar_label, labels))\n",
    "print(\"Completeness: %0.3f\" % metrics.completeness_score(sonar_label, labels))\n",
    "print(\"V-measure: %0.3f\" % metrics.v_measure_score(sonar_label, labels))\n",
    "print(\"Adjusted Rand Index: %0.3f\" % metrics.adjusted_rand_score(sonar_label, labels))\n",
    "print(\n",
    "    \"Adjusted Mutual Information: %0.3f\"\n",
    "    % metrics.adjusted_mutual_info_score(sonar_label, labels)\n",
    ")\n",
    "\n",
    "print(\"Silhouette Score: %0.3f\" % metrics.silhouette_score(scaled_features_df, labels))\n",
    "\n",
    "#silhouette (cohesion compared to separation, high value indicates well matched to its own cluster and poorly to \n",
    "#neighboring clusters)\n",
    "#Davies-Bouldin Index (cluster overlap by measuring the ratio of the sum of within-cluster scatters to between-cluster \n",
    "#separations, low value indicates indicates that the clusters are compact and far)\n",
    "print('Davies Bouldin score is: %0.3f' % metrics.davies_bouldin_score(scaled_features_df, labels))\n",
    "\n",
    "#calinski harabasz score (Well-defined clusters have a large between-cluster variance and a small within-cluster variance,\n",
    "#larger index value indicates optimal number of clusters)\n",
    "\n",
    "print('Calinski Harabasz score is:  %0.3f' % metrics.calinski_harabasz_score(scaled_features_df, labels))\n",
    "\n",
    "# Classification accuracy as well\n",
    "test_data = pd.Series(sonar_label)\n",
    "classification_accuracy(train_data, labels, test_data)"
   ]
  },
  {
   "cell_type": "code",
   "execution_count": 73,
   "metadata": {
    "colab": {
     "base_uri": "https://localhost:8080/",
     "height": 265
    },
    "id": "DbgwjOOztHRS",
    "outputId": "33cf2ee9-2561-4b59-b3f7-82a8a31ba07e"
   },
   "outputs": [
    {
     "data": {
      "image/png": "[encoded data removed]",
      "text/plain": [
       "<Figure size 432x288 with 1 Axes>"
      ]
     },
     "metadata": {
      "needs_background": "light"
     },
     "output_type": "display_data"
    }
   ],
   "source": [
    "pca_data_df = pd.DataFrame(pca_data)\n",
    "pca_data_df.columns = ['P1', 'P2']\n",
    "plt.figure()\n",
    "plt.scatter(pca_data_df['P1'], pca_data_df['P2'],\n",
    "            c = labels, cmap ='rainbow')\n",
    "plt.show()"
   ]
  }
 ],
 "metadata": {
  "colab": {
   "collapsed_sections": [
    "98dntBF3hZCV"
   ],
   "provenance": [],
   "toc_visible": true
  },
  "kernelspec": {
   "display_name": "Python 3",
   "language": "python",
   "name": "python3"
  },
  "language_info": {
   "codemirror_mode": {
    "name": "ipython",
    "version": 3
   },
   "file_extension": ".py",
   "mimetype": "text/x-python",
   "name": "python",
   "nbconvert_exporter": "python",
   "pygments_lexer": "ipython3",
   "version": "3.8.3"
  }
 },
 "nbformat": 4,
 "nbformat_minor": 1
}
